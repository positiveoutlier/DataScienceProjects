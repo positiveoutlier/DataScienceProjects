{
 "cells": [
  {
   "cell_type": "markdown",
   "metadata": {},
   "source": [
    "<p style=\"font-family: Calibri; font-size:3.75em;color:dodgerblue; font-style:bold\"><br>\n",
    "Female participation in the economy<br><br> and a country's wealth</p><br>\n",
    "\n",
    "Diversity is a hot topic. Research shows that diversity in teams leads to better decision making ([for example refer to this article at Forbes](https://www.forbes.com/sites/eriklarson/2017/09/21/new-research-diversity-inclusion-better-decision-making-at-work/#3ee9eabb4cbf)) and that companies with a more diverse board grow their revenues faster ([an example on gender diverse boards](http://www.smh.com.au/business/workplace-relations/asx-300-companies-with-gender-diverse-boards-grow-revenue-faster-kpmg-report-20170330-gva4kz.html)). \n",
    "An important component of diversity is gender diversity: equal representation by man and women in teams. Following the line of thought provided by the research on diversity, I will examine if the participation of women in the economy can be used to predict GDP. My expectation is that the higher the participation of women in the economy, the higher the country's GDP is. \n",
    "\n",
    "To investigate this, I will use observations from the following datasets, all downloadable from [Worldbank Data Catalog](https://data.worldbank.org/data-catalog):\n",
    "* World Development Indicators [September 2017] --> will be used to source the value of GDP per capita per country\n",
    "* Education Statistics [June 2017] --> will be used to source data on female educational attainment per country\n",
    "* Gender Statistics [October 2017] --> will be used to source data on female economic participation per country<br>\n",
    "\n",
    "To ensure the availability of enough intersecting data points, the year 2010 has been selected. "
   ]
  },
  {
   "cell_type": "markdown",
   "metadata": {},
   "source": [
    "<p style=\"font-family: Calibri; font-size:2.00em;color:seagreen; font-style:bold\">\n",
    "Import libraries</p>"
   ]
  },
  {
   "cell_type": "code",
   "execution_count": 1,
   "metadata": {
    "collapsed": true
   },
   "outputs": [],
   "source": [
    "import pandas as pd\n",
    "import matplotlib.pyplot as plt\n",
    "import numpy as np\n",
    "from sklearn.tree import DecisionTreeRegressor\n",
    "from sklearn.linear_model import LinearRegression\n",
    "from sklearn.model_selection import train_test_split\n",
    "from sklearn.metrics import mean_squared_error\n",
    "from math import sqrt"
   ]
  },
  {
   "cell_type": "markdown",
   "metadata": {},
   "source": [
    "<p style=\"font-family: Calibri; font-size:2.00em;color:seagreen; font-style:bold\">\n",
    "Ingest the datasets</p>"
   ]
  },
  {
   "cell_type": "code",
   "execution_count": 2,
   "metadata": {},
   "outputs": [
    {
     "data": {
      "text/plain": [
       "(409992, 63)"
      ]
     },
     "execution_count": 2,
     "metadata": {},
     "output_type": "execute_result"
    }
   ],
   "source": [
    "# World Development Indicators (WDI)\n",
    "wdi_raw = pd.read_csv('./World_Bank_Data/wdi_csv/wdidata.csv')\n",
    "wdi_raw.shape"
   ]
  },
  {
   "cell_type": "code",
   "execution_count": 3,
   "metadata": {},
   "outputs": [
    {
     "data": {
      "text/plain": [
       "(886930, 70)"
      ]
     },
     "execution_count": 3,
     "metadata": {},
     "output_type": "execute_result"
    }
   ],
   "source": [
    "# Education Statistics (EdStats)\n",
    "edstats_raw = pd.read_csv('./World_Bank_Data/edstats_csv/edstatsdata.csv')\n",
    "edstats_raw.shape"
   ]
  },
  {
   "cell_type": "code",
   "execution_count": 4,
   "metadata": {},
   "outputs": [
    {
     "data": {
      "text/plain": [
       "(165690, 63)"
      ]
     },
     "execution_count": 4,
     "metadata": {},
     "output_type": "execute_result"
    }
   ],
   "source": [
    "# Gender Statistics (GenderStats)\n",
    "genderstats_raw = pd.read_csv('./World_Bank_Data/gender_stats_csv/gender_statsdata.csv')\n",
    "genderstats_raw.shape"
   ]
  },
  {
   "cell_type": "markdown",
   "metadata": {},
   "source": [
    "<p style=\"font-family: Calibri; font-size:2.00em;color:seagreen; font-style:bold\">\n",
    "Clean the data and create the dataset which will be used for the regression analysis</p>\n",
    "Based on my initial data exploration the year 2010 is selected.\n",
    "<p style=\"font-family: Calibri; font-size:1.50em;color:hotpink; font-style:bold\">\n",
    "World Development Indicators dataset cleaning</p>\n",
    "For my analysis I will use the following indicator:\n",
    "*GDP per capita (constant 2010 US$)*\n",
    "and only keep data for the year 2010. \n",
    "Gross Domestic Product (GDP) is a measure of the economic output of a country. GDP per capita scales this measure to ensure comparability across countries."
   ]
  },
  {
   "cell_type": "code",
   "execution_count": 5,
   "metadata": {},
   "outputs": [
    {
     "data": {
      "text/plain": [
       "264"
      ]
     },
     "execution_count": 5,
     "metadata": {},
     "output_type": "execute_result"
    }
   ],
   "source": [
    "# Create a mask that filters for the selected indicator\n",
    "gdp_per_capita = wdi_raw[\"Indicator Name\"] == \"GDP per capita (constant 2010 US$)\"\n",
    "\n",
    "len(wdi_raw[gdp_per_capita][\"Country Code\"].unique())"
   ]
  },
  {
   "cell_type": "code",
   "execution_count": 6,
   "metadata": {},
   "outputs": [
    {
     "data": {
      "text/html": [
       "<div>\n",
       "<style>\n",
       "    .dataframe thead tr:only-child th {\n",
       "        text-align: right;\n",
       "    }\n",
       "\n",
       "    .dataframe thead th {\n",
       "        text-align: left;\n",
       "    }\n",
       "\n",
       "    .dataframe tbody tr th {\n",
       "        vertical-align: top;\n",
       "    }\n",
       "</style>\n",
       "<table border=\"1\" class=\"dataframe\">\n",
       "  <thead>\n",
       "    <tr style=\"text-align: right;\">\n",
       "      <th></th>\n",
       "      <th>Country Name</th>\n",
       "      <th>Country Code</th>\n",
       "      <th>Indicator Name</th>\n",
       "      <th>Indicator Code</th>\n",
       "      <th>1960</th>\n",
       "      <th>1961</th>\n",
       "      <th>1962</th>\n",
       "      <th>1963</th>\n",
       "      <th>1964</th>\n",
       "      <th>1965</th>\n",
       "      <th>...</th>\n",
       "      <th>2009</th>\n",
       "      <th>2010</th>\n",
       "      <th>2011</th>\n",
       "      <th>2012</th>\n",
       "      <th>2013</th>\n",
       "      <th>2014</th>\n",
       "      <th>2015</th>\n",
       "      <th>2016</th>\n",
       "      <th>2017</th>\n",
       "      <th>Unnamed: 62</th>\n",
       "    </tr>\n",
       "  </thead>\n",
       "  <tbody>\n",
       "    <tr>\n",
       "      <th>382553</th>\n",
       "      <td>Turkmenistan</td>\n",
       "      <td>TKM</td>\n",
       "      <td>GDP per capita (constant 2010 US$)</td>\n",
       "      <td>NY.GDP.PCAP.KD</td>\n",
       "      <td>NaN</td>\n",
       "      <td>NaN</td>\n",
       "      <td>NaN</td>\n",
       "      <td>NaN</td>\n",
       "      <td>NaN</td>\n",
       "      <td>NaN</td>\n",
       "      <td>...</td>\n",
       "      <td>4129.543531</td>\n",
       "      <td>4439.203000</td>\n",
       "      <td>5006.296232</td>\n",
       "      <td>5462.980549</td>\n",
       "      <td>5909.771043</td>\n",
       "      <td>6399.270662</td>\n",
       "      <td>6693.935610</td>\n",
       "      <td>6986.855946</td>\n",
       "      <td>NaN</td>\n",
       "      <td>NaN</td>\n",
       "    </tr>\n",
       "    <tr>\n",
       "      <th>56423</th>\n",
       "      <td>Pacific island small states</td>\n",
       "      <td>PSS</td>\n",
       "      <td>GDP per capita (constant 2010 US$)</td>\n",
       "      <td>NY.GDP.PCAP.KD</td>\n",
       "      <td>NaN</td>\n",
       "      <td>NaN</td>\n",
       "      <td>NaN</td>\n",
       "      <td>NaN</td>\n",
       "      <td>NaN</td>\n",
       "      <td>NaN</td>\n",
       "      <td>...</td>\n",
       "      <td>2845.117296</td>\n",
       "      <td>2891.657505</td>\n",
       "      <td>2968.424575</td>\n",
       "      <td>2993.793730</td>\n",
       "      <td>3057.157126</td>\n",
       "      <td>3132.872748</td>\n",
       "      <td>3218.961249</td>\n",
       "      <td>3270.773956</td>\n",
       "      <td>NaN</td>\n",
       "      <td>NaN</td>\n",
       "    </tr>\n",
       "    <tr>\n",
       "      <th>343728</th>\n",
       "      <td>Solomon Islands</td>\n",
       "      <td>SLB</td>\n",
       "      <td>GDP per capita (constant 2010 US$)</td>\n",
       "      <td>NY.GDP.PCAP.KD</td>\n",
       "      <td>NaN</td>\n",
       "      <td>NaN</td>\n",
       "      <td>NaN</td>\n",
       "      <td>NaN</td>\n",
       "      <td>NaN</td>\n",
       "      <td>NaN</td>\n",
       "      <td>...</td>\n",
       "      <td>1217.377773</td>\n",
       "      <td>1272.448025</td>\n",
       "      <td>1405.469626</td>\n",
       "      <td>1439.189608</td>\n",
       "      <td>1451.048353</td>\n",
       "      <td>1442.232554</td>\n",
       "      <td>1465.588478</td>\n",
       "      <td>1479.343203</td>\n",
       "      <td>NaN</td>\n",
       "      <td>NaN</td>\n",
       "    </tr>\n",
       "    <tr>\n",
       "      <th>112331</th>\n",
       "      <td>Botswana</td>\n",
       "      <td>BWA</td>\n",
       "      <td>GDP per capita (constant 2010 US$)</td>\n",
       "      <td>NY.GDP.PCAP.KD</td>\n",
       "      <td>390.829725</td>\n",
       "      <td>405.798638</td>\n",
       "      <td>422.172033</td>\n",
       "      <td>435.689893</td>\n",
       "      <td>453.078975</td>\n",
       "      <td>466.262180</td>\n",
       "      <td>...</td>\n",
       "      <td>5948.853248</td>\n",
       "      <td>6346.156204</td>\n",
       "      <td>6610.331923</td>\n",
       "      <td>6779.393898</td>\n",
       "      <td>7409.421155</td>\n",
       "      <td>7574.282093</td>\n",
       "      <td>7308.611508</td>\n",
       "      <td>7383.325186</td>\n",
       "      <td>NaN</td>\n",
       "      <td>NaN</td>\n",
       "    </tr>\n",
       "    <tr>\n",
       "      <th>221041</th>\n",
       "      <td>Italy</td>\n",
       "      <td>ITA</td>\n",
       "      <td>GDP per capita (constant 2010 US$)</td>\n",
       "      <td>NY.GDP.PCAP.KD</td>\n",
       "      <td>10867.703476</td>\n",
       "      <td>11681.305276</td>\n",
       "      <td>12322.314307</td>\n",
       "      <td>12918.967233</td>\n",
       "      <td>13171.601863</td>\n",
       "      <td>13487.989818</td>\n",
       "      <td>...</td>\n",
       "      <td>35363.400937</td>\n",
       "      <td>35849.373636</td>\n",
       "      <td>35994.134608</td>\n",
       "      <td>34885.295970</td>\n",
       "      <td>33887.298464</td>\n",
       "      <td>33615.971505</td>\n",
       "      <td>33911.933836</td>\n",
       "      <td>34283.704985</td>\n",
       "      <td>NaN</td>\n",
       "      <td>NaN</td>\n",
       "    </tr>\n",
       "  </tbody>\n",
       "</table>\n",
       "<p>5 rows × 63 columns</p>\n",
       "</div>"
      ],
      "text/plain": [
       "                       Country Name Country Code  \\\n",
       "382553                 Turkmenistan          TKM   \n",
       "56423   Pacific island small states          PSS   \n",
       "343728              Solomon Islands          SLB   \n",
       "112331                     Botswana          BWA   \n",
       "221041                        Italy          ITA   \n",
       "\n",
       "                            Indicator Name  Indicator Code          1960  \\\n",
       "382553  GDP per capita (constant 2010 US$)  NY.GDP.PCAP.KD           NaN   \n",
       "56423   GDP per capita (constant 2010 US$)  NY.GDP.PCAP.KD           NaN   \n",
       "343728  GDP per capita (constant 2010 US$)  NY.GDP.PCAP.KD           NaN   \n",
       "112331  GDP per capita (constant 2010 US$)  NY.GDP.PCAP.KD    390.829725   \n",
       "221041  GDP per capita (constant 2010 US$)  NY.GDP.PCAP.KD  10867.703476   \n",
       "\n",
       "                1961          1962          1963          1964          1965  \\\n",
       "382553           NaN           NaN           NaN           NaN           NaN   \n",
       "56423            NaN           NaN           NaN           NaN           NaN   \n",
       "343728           NaN           NaN           NaN           NaN           NaN   \n",
       "112331    405.798638    422.172033    435.689893    453.078975    466.262180   \n",
       "221041  11681.305276  12322.314307  12918.967233  13171.601863  13487.989818   \n",
       "\n",
       "           ...               2009          2010          2011          2012  \\\n",
       "382553     ...        4129.543531   4439.203000   5006.296232   5462.980549   \n",
       "56423      ...        2845.117296   2891.657505   2968.424575   2993.793730   \n",
       "343728     ...        1217.377773   1272.448025   1405.469626   1439.189608   \n",
       "112331     ...        5948.853248   6346.156204   6610.331923   6779.393898   \n",
       "221041     ...       35363.400937  35849.373636  35994.134608  34885.295970   \n",
       "\n",
       "                2013          2014          2015          2016  2017  \\\n",
       "382553   5909.771043   6399.270662   6693.935610   6986.855946   NaN   \n",
       "56423    3057.157126   3132.872748   3218.961249   3270.773956   NaN   \n",
       "343728   1451.048353   1442.232554   1465.588478   1479.343203   NaN   \n",
       "112331   7409.421155   7574.282093   7308.611508   7383.325186   NaN   \n",
       "221041  33887.298464  33615.971505  33911.933836  34283.704985   NaN   \n",
       "\n",
       "        Unnamed: 62  \n",
       "382553          NaN  \n",
       "56423           NaN  \n",
       "343728          NaN  \n",
       "112331          NaN  \n",
       "221041          NaN  \n",
       "\n",
       "[5 rows x 63 columns]"
      ]
     },
     "execution_count": 6,
     "metadata": {},
     "output_type": "execute_result"
    }
   ],
   "source": [
    "# Create a copy of the dataset that only includes rows with GDP per capita\n",
    "wdi_gdp = wdi_raw[gdp_per_capita].copy()\n",
    "wdi_gdp.sample(5)"
   ]
  },
  {
   "cell_type": "code",
   "execution_count": 7,
   "metadata": {},
   "outputs": [
    {
     "data": {
      "text/plain": [
       "Index(['Country Name', 'Country Code', 'Indicator Name', 'Indicator Code',\n",
       "       '1960', '1961', '1962', '1963', '1964', '1965', '1966', '1967', '1968',\n",
       "       '1969', '1970', '1971', '1972', '1973', '1974', '1975', '1976', '1977',\n",
       "       '1978', '1979', '1980', '1981', '1982', '1983', '1984', '1985', '1986',\n",
       "       '1987', '1988', '1989', '1990', '1991', '1992', '1993', '1994', '1995',\n",
       "       '1996', '1997', '1998', '1999', '2000', '2001', '2002', '2003', '2004',\n",
       "       '2005', '2006', '2007', '2008', '2009', '2010', '2011', '2012', '2013',\n",
       "       '2014', '2015', '2016', '2017', 'Unnamed: 62'],\n",
       "      dtype='object')"
      ]
     },
     "execution_count": 7,
     "metadata": {},
     "output_type": "execute_result"
    }
   ],
   "source": [
    "wdi_gdp.columns"
   ]
  },
  {
   "cell_type": "code",
   "execution_count": 8,
   "metadata": {},
   "outputs": [
    {
     "data": {
      "text/plain": [
       "Index(['Country Name', 'Country Code', 'Indicator Name', 'Indicator Code',\n",
       "       '2010'],\n",
       "      dtype='object')"
      ]
     },
     "execution_count": 8,
     "metadata": {},
     "output_type": "execute_result"
    }
   ],
   "source": [
    "# Drop columns that are not needed - only keep data for the year 2010\n",
    "\n",
    "keep_columns = [\"Country Name\", \"Country Code\", \"Indicator Name\", \"Indicator Code\", \"2010\"]\n",
    "\n",
    "for name in wdi_gdp.columns:\n",
    "    if name not in keep_columns:\n",
    "        wdi_gdp.drop(name, 1, inplace=True)\n",
    "\n",
    "wdi_gdp.columns"
   ]
  },
  {
   "cell_type": "code",
   "execution_count": 9,
   "metadata": {},
   "outputs": [
    {
     "data": {
      "text/html": [
       "<div>\n",
       "<style>\n",
       "    .dataframe thead tr:only-child th {\n",
       "        text-align: right;\n",
       "    }\n",
       "\n",
       "    .dataframe thead th {\n",
       "        text-align: left;\n",
       "    }\n",
       "\n",
       "    .dataframe tbody tr th {\n",
       "        vertical-align: top;\n",
       "    }\n",
       "</style>\n",
       "<table border=\"1\" class=\"dataframe\">\n",
       "  <thead>\n",
       "    <tr style=\"text-align: right;\">\n",
       "      <th></th>\n",
       "      <th>Country Name</th>\n",
       "      <th>Country Code</th>\n",
       "      <th>Indicator Name</th>\n",
       "      <th>Indicator Code</th>\n",
       "      <th>2010</th>\n",
       "    </tr>\n",
       "  </thead>\n",
       "  <tbody>\n",
       "    <tr>\n",
       "      <th>308009</th>\n",
       "      <td>Papua New Guinea</td>\n",
       "      <td>PNG</td>\n",
       "      <td>GDP per capita (constant 2010 US$)</td>\n",
       "      <td>NY.GDP.PCAP.KD</td>\n",
       "      <td>1366.879112</td>\n",
       "    </tr>\n",
       "    <tr>\n",
       "      <th>256760</th>\n",
       "      <td>Madagascar</td>\n",
       "      <td>MDG</td>\n",
       "      <td>GDP per capita (constant 2010 US$)</td>\n",
       "      <td>NY.GDP.PCAP.KD</td>\n",
       "      <td>412.730934</td>\n",
       "    </tr>\n",
       "    <tr>\n",
       "      <th>50211</th>\n",
       "      <td>North America</td>\n",
       "      <td>NAC</td>\n",
       "      <td>GDP per capita (constant 2010 US$)</td>\n",
       "      <td>NY.GDP.PCAP.KD</td>\n",
       "      <td>48289.700300</td>\n",
       "    </tr>\n",
       "    <tr>\n",
       "      <th>207064</th>\n",
       "      <td>Hungary</td>\n",
       "      <td>HUN</td>\n",
       "      <td>GDP per capita (constant 2010 US$)</td>\n",
       "      <td>NY.GDP.PCAP.KD</td>\n",
       "      <td>13025.533794</td>\n",
       "    </tr>\n",
       "    <tr>\n",
       "      <th>314221</th>\n",
       "      <td>Poland</td>\n",
       "      <td>POL</td>\n",
       "      <td>GDP per capita (constant 2010 US$)</td>\n",
       "      <td>NY.GDP.PCAP.KD</td>\n",
       "      <td>12599.524864</td>\n",
       "    </tr>\n",
       "  </tbody>\n",
       "</table>\n",
       "</div>"
      ],
      "text/plain": [
       "            Country Name Country Code                      Indicator Name  \\\n",
       "308009  Papua New Guinea          PNG  GDP per capita (constant 2010 US$)   \n",
       "256760        Madagascar          MDG  GDP per capita (constant 2010 US$)   \n",
       "50211      North America          NAC  GDP per capita (constant 2010 US$)   \n",
       "207064           Hungary          HUN  GDP per capita (constant 2010 US$)   \n",
       "314221            Poland          POL  GDP per capita (constant 2010 US$)   \n",
       "\n",
       "        Indicator Code          2010  \n",
       "308009  NY.GDP.PCAP.KD   1366.879112  \n",
       "256760  NY.GDP.PCAP.KD    412.730934  \n",
       "50211   NY.GDP.PCAP.KD  48289.700300  \n",
       "207064  NY.GDP.PCAP.KD  13025.533794  \n",
       "314221  NY.GDP.PCAP.KD  12599.524864  "
      ]
     },
     "execution_count": 9,
     "metadata": {},
     "output_type": "execute_result"
    }
   ],
   "source": [
    "# Drop rows with NaN values\n",
    "wdi_gdp.dropna(axis=0, inplace=True)\n",
    "wdi_gdp.sample(5)"
   ]
  },
  {
   "cell_type": "code",
   "execution_count": 10,
   "metadata": {},
   "outputs": [
    {
     "data": {
      "text/plain": [
       "(249, 5)"
      ]
     },
     "execution_count": 10,
     "metadata": {},
     "output_type": "execute_result"
    }
   ],
   "source": [
    "# Count the number of observations\n",
    "wdi_gdp.shape"
   ]
  },
  {
   "cell_type": "code",
   "execution_count": 11,
   "metadata": {},
   "outputs": [
    {
     "data": {
      "text/plain": [
       "249"
      ]
     },
     "execution_count": 11,
     "metadata": {},
     "output_type": "execute_result"
    }
   ],
   "source": [
    "# Check the number of unique countries in the analysis\n",
    "len(wdi_gdp[\"Country Name\"].unique())"
   ]
  },
  {
   "cell_type": "markdown",
   "metadata": {},
   "source": [
    "<p style=\"font-family: Calibri; font-size:1.50em;color:hotpink; font-style:bold\">Education statistics dataset cleaning</p>\n",
    "I have selected the following indicators for my analysis: \n",
    "* *Barro-Lee: Average years of tertiary schooling, age 15+, female (BAR.TER.SCHL.15UP.FE)* and \n",
    "* *UIS: Percentage of population age 25+ with a completed bachelor's or equivalent degree (ISCED 6). Female (UIS.EA.6.AG25T99.F)*<br>\n",
    "\n",
    "Education is important. On average, the higher someones education, the more they will earn and therefore the more they can contribute to a country's GDP."
   ]
  },
  {
   "cell_type": "code",
   "execution_count": 12,
   "metadata": {},
   "outputs": [
    {
     "data": {
      "text/plain": [
       "array(['BAR.TER.SCHL.15UP.FE', 'UIS.EA.6.AG25T99.F'], dtype=object)"
      ]
     },
     "execution_count": 12,
     "metadata": {},
     "output_type": "execute_result"
    }
   ],
   "source": [
    "# Create a mask that filters for the selected indicators\n",
    "female_attainment = (edstats_raw[\"Indicator Code\"] == \"BAR.TER.SCHL.15UP.FE\") | (edstats_raw[\"Indicator Code\"] == \"UIS.EA.6.AG25T99.F\")\n",
    "\n",
    "edstats_raw[female_attainment][\"Indicator Code\"].unique()"
   ]
  },
  {
   "cell_type": "code",
   "execution_count": 13,
   "metadata": {},
   "outputs": [
    {
     "data": {
      "text/html": [
       "<div>\n",
       "<style>\n",
       "    .dataframe thead tr:only-child th {\n",
       "        text-align: right;\n",
       "    }\n",
       "\n",
       "    .dataframe thead th {\n",
       "        text-align: left;\n",
       "    }\n",
       "\n",
       "    .dataframe tbody tr th {\n",
       "        vertical-align: top;\n",
       "    }\n",
       "</style>\n",
       "<table border=\"1\" class=\"dataframe\">\n",
       "  <thead>\n",
       "    <tr style=\"text-align: right;\">\n",
       "      <th></th>\n",
       "      <th>Country Name</th>\n",
       "      <th>Country Code</th>\n",
       "      <th>Indicator Name</th>\n",
       "      <th>Indicator Code</th>\n",
       "      <th>1970</th>\n",
       "      <th>1971</th>\n",
       "      <th>1972</th>\n",
       "      <th>1973</th>\n",
       "      <th>1974</th>\n",
       "      <th>1975</th>\n",
       "      <th>...</th>\n",
       "      <th>2060</th>\n",
       "      <th>2065</th>\n",
       "      <th>2070</th>\n",
       "      <th>2075</th>\n",
       "      <th>2080</th>\n",
       "      <th>2085</th>\n",
       "      <th>2090</th>\n",
       "      <th>2095</th>\n",
       "      <th>2100</th>\n",
       "      <th>Unnamed: 69</th>\n",
       "    </tr>\n",
       "  </thead>\n",
       "  <tbody>\n",
       "    <tr>\n",
       "      <th>395353</th>\n",
       "      <td>Guyana</td>\n",
       "      <td>GUY</td>\n",
       "      <td>UIS: Percentage of population age 25+ with a c...</td>\n",
       "      <td>UIS.EA.6.AG25T99.F</td>\n",
       "      <td>NaN</td>\n",
       "      <td>NaN</td>\n",
       "      <td>NaN</td>\n",
       "      <td>NaN</td>\n",
       "      <td>NaN</td>\n",
       "      <td>NaN</td>\n",
       "      <td>...</td>\n",
       "      <td>NaN</td>\n",
       "      <td>NaN</td>\n",
       "      <td>NaN</td>\n",
       "      <td>NaN</td>\n",
       "      <td>NaN</td>\n",
       "      <td>NaN</td>\n",
       "      <td>NaN</td>\n",
       "      <td>NaN</td>\n",
       "      <td>NaN</td>\n",
       "      <td>NaN</td>\n",
       "    </tr>\n",
       "    <tr>\n",
       "      <th>652579</th>\n",
       "      <td>Peru</td>\n",
       "      <td>PER</td>\n",
       "      <td>Barro-Lee: Average years of tertiary schooling...</td>\n",
       "      <td>BAR.TER.SCHL.15UP.FE</td>\n",
       "      <td>0.11</td>\n",
       "      <td>NaN</td>\n",
       "      <td>NaN</td>\n",
       "      <td>NaN</td>\n",
       "      <td>NaN</td>\n",
       "      <td>0.2</td>\n",
       "      <td>...</td>\n",
       "      <td>NaN</td>\n",
       "      <td>NaN</td>\n",
       "      <td>NaN</td>\n",
       "      <td>NaN</td>\n",
       "      <td>NaN</td>\n",
       "      <td>NaN</td>\n",
       "      <td>NaN</td>\n",
       "      <td>NaN</td>\n",
       "      <td>NaN</td>\n",
       "      <td>NaN</td>\n",
       "    </tr>\n",
       "    <tr>\n",
       "      <th>461323</th>\n",
       "      <td>Kenya</td>\n",
       "      <td>KEN</td>\n",
       "      <td>UIS: Percentage of population age 25+ with a c...</td>\n",
       "      <td>UIS.EA.6.AG25T99.F</td>\n",
       "      <td>NaN</td>\n",
       "      <td>NaN</td>\n",
       "      <td>NaN</td>\n",
       "      <td>NaN</td>\n",
       "      <td>NaN</td>\n",
       "      <td>NaN</td>\n",
       "      <td>...</td>\n",
       "      <td>NaN</td>\n",
       "      <td>NaN</td>\n",
       "      <td>NaN</td>\n",
       "      <td>NaN</td>\n",
       "      <td>NaN</td>\n",
       "      <td>NaN</td>\n",
       "      <td>NaN</td>\n",
       "      <td>NaN</td>\n",
       "      <td>NaN</td>\n",
       "      <td>NaN</td>\n",
       "    </tr>\n",
       "    <tr>\n",
       "      <th>154139</th>\n",
       "      <td>Belarus</td>\n",
       "      <td>BLR</td>\n",
       "      <td>Barro-Lee: Average years of tertiary schooling...</td>\n",
       "      <td>BAR.TER.SCHL.15UP.FE</td>\n",
       "      <td>NaN</td>\n",
       "      <td>NaN</td>\n",
       "      <td>NaN</td>\n",
       "      <td>NaN</td>\n",
       "      <td>NaN</td>\n",
       "      <td>NaN</td>\n",
       "      <td>...</td>\n",
       "      <td>NaN</td>\n",
       "      <td>NaN</td>\n",
       "      <td>NaN</td>\n",
       "      <td>NaN</td>\n",
       "      <td>NaN</td>\n",
       "      <td>NaN</td>\n",
       "      <td>NaN</td>\n",
       "      <td>NaN</td>\n",
       "      <td>NaN</td>\n",
       "      <td>NaN</td>\n",
       "    </tr>\n",
       "    <tr>\n",
       "      <th>821169</th>\n",
       "      <td>Turkmenistan</td>\n",
       "      <td>TKM</td>\n",
       "      <td>Barro-Lee: Average years of tertiary schooling...</td>\n",
       "      <td>BAR.TER.SCHL.15UP.FE</td>\n",
       "      <td>NaN</td>\n",
       "      <td>NaN</td>\n",
       "      <td>NaN</td>\n",
       "      <td>NaN</td>\n",
       "      <td>NaN</td>\n",
       "      <td>NaN</td>\n",
       "      <td>...</td>\n",
       "      <td>NaN</td>\n",
       "      <td>NaN</td>\n",
       "      <td>NaN</td>\n",
       "      <td>NaN</td>\n",
       "      <td>NaN</td>\n",
       "      <td>NaN</td>\n",
       "      <td>NaN</td>\n",
       "      <td>NaN</td>\n",
       "      <td>NaN</td>\n",
       "      <td>NaN</td>\n",
       "    </tr>\n",
       "  </tbody>\n",
       "</table>\n",
       "<p>5 rows × 70 columns</p>\n",
       "</div>"
      ],
      "text/plain": [
       "        Country Name Country Code  \\\n",
       "395353        Guyana          GUY   \n",
       "652579          Peru          PER   \n",
       "461323         Kenya          KEN   \n",
       "154139       Belarus          BLR   \n",
       "821169  Turkmenistan          TKM   \n",
       "\n",
       "                                           Indicator Name  \\\n",
       "395353  UIS: Percentage of population age 25+ with a c...   \n",
       "652579  Barro-Lee: Average years of tertiary schooling...   \n",
       "461323  UIS: Percentage of population age 25+ with a c...   \n",
       "154139  Barro-Lee: Average years of tertiary schooling...   \n",
       "821169  Barro-Lee: Average years of tertiary schooling...   \n",
       "\n",
       "              Indicator Code  1970  1971  1972  1973  1974  1975     ...       \\\n",
       "395353    UIS.EA.6.AG25T99.F   NaN   NaN   NaN   NaN   NaN   NaN     ...        \n",
       "652579  BAR.TER.SCHL.15UP.FE  0.11   NaN   NaN   NaN   NaN   0.2     ...        \n",
       "461323    UIS.EA.6.AG25T99.F   NaN   NaN   NaN   NaN   NaN   NaN     ...        \n",
       "154139  BAR.TER.SCHL.15UP.FE   NaN   NaN   NaN   NaN   NaN   NaN     ...        \n",
       "821169  BAR.TER.SCHL.15UP.FE   NaN   NaN   NaN   NaN   NaN   NaN     ...        \n",
       "\n",
       "        2060  2065  2070  2075  2080  2085  2090  2095  2100  Unnamed: 69  \n",
       "395353   NaN   NaN   NaN   NaN   NaN   NaN   NaN   NaN   NaN          NaN  \n",
       "652579   NaN   NaN   NaN   NaN   NaN   NaN   NaN   NaN   NaN          NaN  \n",
       "461323   NaN   NaN   NaN   NaN   NaN   NaN   NaN   NaN   NaN          NaN  \n",
       "154139   NaN   NaN   NaN   NaN   NaN   NaN   NaN   NaN   NaN          NaN  \n",
       "821169   NaN   NaN   NaN   NaN   NaN   NaN   NaN   NaN   NaN          NaN  \n",
       "\n",
       "[5 rows x 70 columns]"
      ]
     },
     "execution_count": 13,
     "metadata": {},
     "output_type": "execute_result"
    }
   ],
   "source": [
    "# Create a copy of the dataset that only contains these indicators\n",
    "fem_att_df = edstats_raw[female_attainment].copy()\n",
    "fem_att_df.sample(5)"
   ]
  },
  {
   "cell_type": "code",
   "execution_count": 14,
   "metadata": {},
   "outputs": [
    {
     "data": {
      "text/plain": [
       "Index(['Country Name', 'Country Code', 'Indicator Name', 'Indicator Code',\n",
       "       '2010'],\n",
       "      dtype='object')"
      ]
     },
     "execution_count": 14,
     "metadata": {},
     "output_type": "execute_result"
    }
   ],
   "source": [
    "# Drop columns that are not needed - only keep data for the year 2010\n",
    "\n",
    "keep_columns = [\"Country Name\", \"Country Code\", \"Indicator Name\", \"Indicator Code\", \"2010\"]\n",
    "\n",
    "for name in fem_att_df.columns:\n",
    "    if name not in keep_columns:\n",
    "        fem_att_df.drop(name, 1, inplace=True)\n",
    "\n",
    "fem_att_df.columns"
   ]
  },
  {
   "cell_type": "code",
   "execution_count": 15,
   "metadata": {},
   "outputs": [
    {
     "data": {
      "text/html": [
       "<div>\n",
       "<style>\n",
       "    .dataframe thead tr:only-child th {\n",
       "        text-align: right;\n",
       "    }\n",
       "\n",
       "    .dataframe thead th {\n",
       "        text-align: left;\n",
       "    }\n",
       "\n",
       "    .dataframe tbody tr th {\n",
       "        vertical-align: top;\n",
       "    }\n",
       "</style>\n",
       "<table border=\"1\" class=\"dataframe\">\n",
       "  <thead>\n",
       "    <tr style=\"text-align: right;\">\n",
       "      <th></th>\n",
       "      <th>Country Name</th>\n",
       "      <th>Country Code</th>\n",
       "      <th>Indicator Name</th>\n",
       "      <th>Indicator Code</th>\n",
       "      <th>2010</th>\n",
       "    </tr>\n",
       "  </thead>\n",
       "  <tbody>\n",
       "    <tr>\n",
       "      <th>14869</th>\n",
       "      <td>Europe &amp; Central Asia</td>\n",
       "      <td>ECS</td>\n",
       "      <td>Barro-Lee: Average years of tertiary schooling...</td>\n",
       "      <td>BAR.TER.SCHL.15UP.FE</td>\n",
       "      <td>NaN</td>\n",
       "    </tr>\n",
       "    <tr>\n",
       "      <th>29529</th>\n",
       "      <td>High income</td>\n",
       "      <td>HIC</td>\n",
       "      <td>Barro-Lee: Average years of tertiary schooling...</td>\n",
       "      <td>BAR.TER.SCHL.15UP.FE</td>\n",
       "      <td>NaN</td>\n",
       "    </tr>\n",
       "    <tr>\n",
       "      <th>593939</th>\n",
       "      <td>Nauru</td>\n",
       "      <td>NRU</td>\n",
       "      <td>Barro-Lee: Average years of tertiary schooling...</td>\n",
       "      <td>BAR.TER.SCHL.15UP.FE</td>\n",
       "      <td>NaN</td>\n",
       "    </tr>\n",
       "    <tr>\n",
       "      <th>678234</th>\n",
       "      <td>Russian Federation</td>\n",
       "      <td>RUS</td>\n",
       "      <td>Barro-Lee: Average years of tertiary schooling...</td>\n",
       "      <td>BAR.TER.SCHL.15UP.FE</td>\n",
       "      <td>1.64</td>\n",
       "    </tr>\n",
       "    <tr>\n",
       "      <th>549283</th>\n",
       "      <td>Marshall Islands</td>\n",
       "      <td>MHL</td>\n",
       "      <td>UIS: Percentage of population age 25+ with a c...</td>\n",
       "      <td>UIS.EA.6.AG25T99.F</td>\n",
       "      <td>NaN</td>\n",
       "    </tr>\n",
       "  </tbody>\n",
       "</table>\n",
       "</div>"
      ],
      "text/plain": [
       "                 Country Name Country Code  \\\n",
       "14869   Europe & Central Asia          ECS   \n",
       "29529             High income          HIC   \n",
       "593939                  Nauru          NRU   \n",
       "678234     Russian Federation          RUS   \n",
       "549283       Marshall Islands          MHL   \n",
       "\n",
       "                                           Indicator Name  \\\n",
       "14869   Barro-Lee: Average years of tertiary schooling...   \n",
       "29529   Barro-Lee: Average years of tertiary schooling...   \n",
       "593939  Barro-Lee: Average years of tertiary schooling...   \n",
       "678234  Barro-Lee: Average years of tertiary schooling...   \n",
       "549283  UIS: Percentage of population age 25+ with a c...   \n",
       "\n",
       "              Indicator Code  2010  \n",
       "14869   BAR.TER.SCHL.15UP.FE   NaN  \n",
       "29529   BAR.TER.SCHL.15UP.FE   NaN  \n",
       "593939  BAR.TER.SCHL.15UP.FE   NaN  \n",
       "678234  BAR.TER.SCHL.15UP.FE  1.64  \n",
       "549283    UIS.EA.6.AG25T99.F   NaN  "
      ]
     },
     "execution_count": 15,
     "metadata": {},
     "output_type": "execute_result"
    }
   ],
   "source": [
    "fem_att_df.sample(5)"
   ]
  },
  {
   "cell_type": "code",
   "execution_count": 16,
   "metadata": {},
   "outputs": [
    {
     "data": {
      "text/html": [
       "<div>\n",
       "<style>\n",
       "    .dataframe thead tr:only-child th {\n",
       "        text-align: right;\n",
       "    }\n",
       "\n",
       "    .dataframe thead th {\n",
       "        text-align: left;\n",
       "    }\n",
       "\n",
       "    .dataframe tbody tr th {\n",
       "        vertical-align: top;\n",
       "    }\n",
       "</style>\n",
       "<table border=\"1\" class=\"dataframe\">\n",
       "  <thead>\n",
       "    <tr style=\"text-align: right;\">\n",
       "      <th></th>\n",
       "      <th>Country Name</th>\n",
       "      <th>Country Code</th>\n",
       "      <th>Indicator Name</th>\n",
       "      <th>Indicator Code</th>\n",
       "      <th>2010</th>\n",
       "    </tr>\n",
       "  </thead>\n",
       "  <tbody>\n",
       "    <tr>\n",
       "      <th>850489</th>\n",
       "      <td>Uruguay</td>\n",
       "      <td>URY</td>\n",
       "      <td>Barro-Lee: Average years of tertiary schooling...</td>\n",
       "      <td>BAR.TER.SCHL.15UP.FE</td>\n",
       "      <td>0.27000</td>\n",
       "    </tr>\n",
       "    <tr>\n",
       "      <th>418019</th>\n",
       "      <td>Indonesia</td>\n",
       "      <td>IDN</td>\n",
       "      <td>Barro-Lee: Average years of tertiary schooling...</td>\n",
       "      <td>BAR.TER.SCHL.15UP.FE</td>\n",
       "      <td>0.19000</td>\n",
       "    </tr>\n",
       "    <tr>\n",
       "      <th>677558</th>\n",
       "      <td>Romania</td>\n",
       "      <td>ROU</td>\n",
       "      <td>UIS: Percentage of population age 25+ with a c...</td>\n",
       "      <td>UIS.EA.6.AG25T99.F</td>\n",
       "      <td>11.32334</td>\n",
       "    </tr>\n",
       "    <tr>\n",
       "      <th>146133</th>\n",
       "      <td>Bahrain</td>\n",
       "      <td>BHR</td>\n",
       "      <td>UIS: Percentage of population age 25+ with a c...</td>\n",
       "      <td>UIS.EA.6.AG25T99.F</td>\n",
       "      <td>9.98245</td>\n",
       "    </tr>\n",
       "    <tr>\n",
       "      <th>248753</th>\n",
       "      <td>Colombia</td>\n",
       "      <td>COL</td>\n",
       "      <td>UIS: Percentage of population age 25+ with a c...</td>\n",
       "      <td>UIS.EA.6.AG25T99.F</td>\n",
       "      <td>9.64078</td>\n",
       "    </tr>\n",
       "  </tbody>\n",
       "</table>\n",
       "</div>"
      ],
      "text/plain": [
       "       Country Name Country Code  \\\n",
       "850489      Uruguay          URY   \n",
       "418019    Indonesia          IDN   \n",
       "677558      Romania          ROU   \n",
       "146133      Bahrain          BHR   \n",
       "248753     Colombia          COL   \n",
       "\n",
       "                                           Indicator Name  \\\n",
       "850489  Barro-Lee: Average years of tertiary schooling...   \n",
       "418019  Barro-Lee: Average years of tertiary schooling...   \n",
       "677558  UIS: Percentage of population age 25+ with a c...   \n",
       "146133  UIS: Percentage of population age 25+ with a c...   \n",
       "248753  UIS: Percentage of population age 25+ with a c...   \n",
       "\n",
       "              Indicator Code      2010  \n",
       "850489  BAR.TER.SCHL.15UP.FE   0.27000  \n",
       "418019  BAR.TER.SCHL.15UP.FE   0.19000  \n",
       "677558    UIS.EA.6.AG25T99.F  11.32334  \n",
       "146133    UIS.EA.6.AG25T99.F   9.98245  \n",
       "248753    UIS.EA.6.AG25T99.F   9.64078  "
      ]
     },
     "execution_count": 16,
     "metadata": {},
     "output_type": "execute_result"
    }
   ],
   "source": [
    "# Drop rows with NaN values\n",
    "fem_att_df.dropna(axis=0, inplace=True)\n",
    "fem_att_df.sample(5)"
   ]
  },
  {
   "cell_type": "code",
   "execution_count": 17,
   "metadata": {},
   "outputs": [
    {
     "data": {
      "text/plain": [
       "(212, 5)"
      ]
     },
     "execution_count": 17,
     "metadata": {},
     "output_type": "execute_result"
    }
   ],
   "source": [
    "# Count the number of observations\n",
    "fem_att_df.shape"
   ]
  },
  {
   "cell_type": "code",
   "execution_count": 18,
   "metadata": {},
   "outputs": [
    {
     "data": {
      "text/plain": [
       "150"
      ]
     },
     "execution_count": 18,
     "metadata": {},
     "output_type": "execute_result"
    }
   ],
   "source": [
    "# Check the number of unique countries in the dataframe\n",
    "len(fem_att_df[\"Country Name\"].unique())"
   ]
  },
  {
   "cell_type": "markdown",
   "metadata": {},
   "source": [
    "<p style=\"font-family: Calibri; font-size:1.50em;color:hotpink; font-style:bold\">\n",
    "Gender statistics dataset cleaning</p>\n",
    "From the gender statistics dataset, I will use the following indicators:\n",
    "* *Firms with female top manager (% of firms) (IC.FRM.FEMM.ZS)*\n",
    "* *Female share of employment in senior and middle management (%) (SL.EMP.SMGT.FE.ZS)*\n",
    "* *Women who own a house both alone and jointly (% of women age 15-49) (SG.OWN.HSAJ.FE.ZS)*\n",
    "* *Employment to population ratio, 15+, female (%) (national estimate) (SL.EMP.TOTL.SP.FE.NE.ZS)*<br>\n",
    "\n",
    "All indicators are selected as measures of female participation in the economy.\n",
    "Also in this case, I will only keep data for the year 2010."
   ]
  },
  {
   "cell_type": "code",
   "execution_count": 19,
   "metadata": {},
   "outputs": [
    {
     "data": {
      "text/plain": [
       "array(['SL.EMP.TOTL.SP.FE.NE.ZS', 'SL.EMP.SMGT.FE.ZS', 'IC.FRM.FEMM.ZS',\n",
       "       'SG.OWN.HSAJ.FE.ZS'], dtype=object)"
      ]
     },
     "execution_count": 19,
     "metadata": {},
     "output_type": "execute_result"
    }
   ],
   "source": [
    "# Create a mask that filters for the selected indicators\n",
    "female_participation = (genderstats_raw[\"Indicator Code\"] == \"IC.FRM.FEMM.ZS\") | (genderstats_raw[\"Indicator Code\"] == \"SL.EMP.SMGT.FE.ZS\") | (genderstats_raw[\"Indicator Code\"] == \"SG.OWN.HSAJ.FE.ZS\") | (genderstats_raw[\"Indicator Code\"] == \"SL.EMP.TOTL.SP.FE.NE.ZS\")\n",
    "\n",
    "genderstats_raw[female_participation][\"Indicator Code\"].unique()"
   ]
  },
  {
   "cell_type": "code",
   "execution_count": 20,
   "metadata": {},
   "outputs": [
    {
     "data": {
      "text/html": [
       "<div>\n",
       "<style>\n",
       "    .dataframe thead tr:only-child th {\n",
       "        text-align: right;\n",
       "    }\n",
       "\n",
       "    .dataframe thead th {\n",
       "        text-align: left;\n",
       "    }\n",
       "\n",
       "    .dataframe tbody tr th {\n",
       "        vertical-align: top;\n",
       "    }\n",
       "</style>\n",
       "<table border=\"1\" class=\"dataframe\">\n",
       "  <thead>\n",
       "    <tr style=\"text-align: right;\">\n",
       "      <th></th>\n",
       "      <th>Country Name</th>\n",
       "      <th>Country Code</th>\n",
       "      <th>Indicator Name</th>\n",
       "      <th>Indicator Code</th>\n",
       "      <th>1960</th>\n",
       "      <th>1961</th>\n",
       "      <th>1962</th>\n",
       "      <th>1963</th>\n",
       "      <th>1964</th>\n",
       "      <th>1965</th>\n",
       "      <th>...</th>\n",
       "      <th>2009</th>\n",
       "      <th>2010</th>\n",
       "      <th>2011</th>\n",
       "      <th>2012</th>\n",
       "      <th>2013</th>\n",
       "      <th>2014</th>\n",
       "      <th>2015</th>\n",
       "      <th>2016</th>\n",
       "      <th>2017</th>\n",
       "      <th>Unnamed: 62</th>\n",
       "    </tr>\n",
       "  </thead>\n",
       "  <tbody>\n",
       "    <tr>\n",
       "      <th>119872</th>\n",
       "      <td>Nigeria</td>\n",
       "      <td>NGA</td>\n",
       "      <td>Female share of employment in senior and middl...</td>\n",
       "      <td>SL.EMP.SMGT.FE.ZS</td>\n",
       "      <td>NaN</td>\n",
       "      <td>NaN</td>\n",
       "      <td>NaN</td>\n",
       "      <td>NaN</td>\n",
       "      <td>NaN</td>\n",
       "      <td>NaN</td>\n",
       "      <td>...</td>\n",
       "      <td>NaN</td>\n",
       "      <td>NaN</td>\n",
       "      <td>NaN</td>\n",
       "      <td>NaN</td>\n",
       "      <td>NaN</td>\n",
       "      <td>NaN</td>\n",
       "      <td>NaN</td>\n",
       "      <td>NaN</td>\n",
       "      <td>NaN</td>\n",
       "      <td>NaN</td>\n",
       "    </tr>\n",
       "    <tr>\n",
       "      <th>140012</th>\n",
       "      <td>South Africa</td>\n",
       "      <td>ZAF</td>\n",
       "      <td>Employment to population ratio, 15+, female (%...</td>\n",
       "      <td>SL.EMP.TOTL.SP.FE.NE.ZS</td>\n",
       "      <td>NaN</td>\n",
       "      <td>NaN</td>\n",
       "      <td>NaN</td>\n",
       "      <td>NaN</td>\n",
       "      <td>NaN</td>\n",
       "      <td>NaN</td>\n",
       "      <td>...</td>\n",
       "      <td>36.200001</td>\n",
       "      <td>34.349998</td>\n",
       "      <td>34.590000</td>\n",
       "      <td>34.869999</td>\n",
       "      <td>36.939999</td>\n",
       "      <td>NaN</td>\n",
       "      <td>34.529999</td>\n",
       "      <td>NaN</td>\n",
       "      <td>NaN</td>\n",
       "      <td>NaN</td>\n",
       "    </tr>\n",
       "    <tr>\n",
       "      <th>118408</th>\n",
       "      <td>New Zealand</td>\n",
       "      <td>NZL</td>\n",
       "      <td>Women who own a house both alone and jointly (...</td>\n",
       "      <td>SG.OWN.HSAJ.FE.ZS</td>\n",
       "      <td>NaN</td>\n",
       "      <td>NaN</td>\n",
       "      <td>NaN</td>\n",
       "      <td>NaN</td>\n",
       "      <td>NaN</td>\n",
       "      <td>NaN</td>\n",
       "      <td>...</td>\n",
       "      <td>NaN</td>\n",
       "      <td>NaN</td>\n",
       "      <td>NaN</td>\n",
       "      <td>NaN</td>\n",
       "      <td>NaN</td>\n",
       "      <td>NaN</td>\n",
       "      <td>NaN</td>\n",
       "      <td>NaN</td>\n",
       "      <td>NaN</td>\n",
       "      <td>NaN</td>\n",
       "    </tr>\n",
       "    <tr>\n",
       "      <th>102232</th>\n",
       "      <td>Macao SAR, China</td>\n",
       "      <td>MAC</td>\n",
       "      <td>Female share of employment in senior and middl...</td>\n",
       "      <td>SL.EMP.SMGT.FE.ZS</td>\n",
       "      <td>NaN</td>\n",
       "      <td>NaN</td>\n",
       "      <td>NaN</td>\n",
       "      <td>NaN</td>\n",
       "      <td>NaN</td>\n",
       "      <td>NaN</td>\n",
       "      <td>...</td>\n",
       "      <td>NaN</td>\n",
       "      <td>NaN</td>\n",
       "      <td>NaN</td>\n",
       "      <td>NaN</td>\n",
       "      <td>NaN</td>\n",
       "      <td>32.529999</td>\n",
       "      <td>32.799999</td>\n",
       "      <td>NaN</td>\n",
       "      <td>NaN</td>\n",
       "      <td>NaN</td>\n",
       "    </tr>\n",
       "    <tr>\n",
       "      <th>140032</th>\n",
       "      <td>South Africa</td>\n",
       "      <td>ZAF</td>\n",
       "      <td>Female share of employment in senior and middl...</td>\n",
       "      <td>SL.EMP.SMGT.FE.ZS</td>\n",
       "      <td>NaN</td>\n",
       "      <td>NaN</td>\n",
       "      <td>NaN</td>\n",
       "      <td>NaN</td>\n",
       "      <td>NaN</td>\n",
       "      <td>NaN</td>\n",
       "      <td>...</td>\n",
       "      <td>NaN</td>\n",
       "      <td>NaN</td>\n",
       "      <td>NaN</td>\n",
       "      <td>NaN</td>\n",
       "      <td>NaN</td>\n",
       "      <td>NaN</td>\n",
       "      <td>29.750000</td>\n",
       "      <td>NaN</td>\n",
       "      <td>NaN</td>\n",
       "      <td>NaN</td>\n",
       "    </tr>\n",
       "    <tr>\n",
       "      <th>146965</th>\n",
       "      <td>Sweden</td>\n",
       "      <td>SWE</td>\n",
       "      <td>Firms with female top manager (% of firms)</td>\n",
       "      <td>IC.FRM.FEMM.ZS</td>\n",
       "      <td>NaN</td>\n",
       "      <td>NaN</td>\n",
       "      <td>NaN</td>\n",
       "      <td>NaN</td>\n",
       "      <td>NaN</td>\n",
       "      <td>NaN</td>\n",
       "      <td>...</td>\n",
       "      <td>NaN</td>\n",
       "      <td>NaN</td>\n",
       "      <td>NaN</td>\n",
       "      <td>NaN</td>\n",
       "      <td>NaN</td>\n",
       "      <td>12.500000</td>\n",
       "      <td>NaN</td>\n",
       "      <td>NaN</td>\n",
       "      <td>NaN</td>\n",
       "      <td>NaN</td>\n",
       "    </tr>\n",
       "    <tr>\n",
       "      <th>21592</th>\n",
       "      <td>Other small states</td>\n",
       "      <td>OSS</td>\n",
       "      <td>Female share of employment in senior and middl...</td>\n",
       "      <td>SL.EMP.SMGT.FE.ZS</td>\n",
       "      <td>NaN</td>\n",
       "      <td>NaN</td>\n",
       "      <td>NaN</td>\n",
       "      <td>NaN</td>\n",
       "      <td>NaN</td>\n",
       "      <td>NaN</td>\n",
       "      <td>...</td>\n",
       "      <td>NaN</td>\n",
       "      <td>NaN</td>\n",
       "      <td>NaN</td>\n",
       "      <td>NaN</td>\n",
       "      <td>NaN</td>\n",
       "      <td>NaN</td>\n",
       "      <td>NaN</td>\n",
       "      <td>NaN</td>\n",
       "      <td>NaN</td>\n",
       "      <td>NaN</td>\n",
       "    </tr>\n",
       "    <tr>\n",
       "      <th>90872</th>\n",
       "      <td>Jordan</td>\n",
       "      <td>JOR</td>\n",
       "      <td>Employment to population ratio, 15+, female (%...</td>\n",
       "      <td>SL.EMP.TOTL.SP.FE.NE.ZS</td>\n",
       "      <td>NaN</td>\n",
       "      <td>NaN</td>\n",
       "      <td>NaN</td>\n",
       "      <td>NaN</td>\n",
       "      <td>NaN</td>\n",
       "      <td>NaN</td>\n",
       "      <td>...</td>\n",
       "      <td>11.300000</td>\n",
       "      <td>11.500000</td>\n",
       "      <td>NaN</td>\n",
       "      <td>NaN</td>\n",
       "      <td>10.300000</td>\n",
       "      <td>10.000000</td>\n",
       "      <td>NaN</td>\n",
       "      <td>NaN</td>\n",
       "      <td>NaN</td>\n",
       "      <td>NaN</td>\n",
       "    </tr>\n",
       "    <tr>\n",
       "      <th>138142</th>\n",
       "      <td>Slovenia</td>\n",
       "      <td>SVN</td>\n",
       "      <td>Female share of employment in senior and middl...</td>\n",
       "      <td>SL.EMP.SMGT.FE.ZS</td>\n",
       "      <td>NaN</td>\n",
       "      <td>NaN</td>\n",
       "      <td>NaN</td>\n",
       "      <td>NaN</td>\n",
       "      <td>NaN</td>\n",
       "      <td>NaN</td>\n",
       "      <td>...</td>\n",
       "      <td>44.689999</td>\n",
       "      <td>43.250000</td>\n",
       "      <td>38.919998</td>\n",
       "      <td>40.259998</td>\n",
       "      <td>38.549999</td>\n",
       "      <td>36.470001</td>\n",
       "      <td>36.980000</td>\n",
       "      <td>NaN</td>\n",
       "      <td>NaN</td>\n",
       "      <td>NaN</td>\n",
       "    </tr>\n",
       "    <tr>\n",
       "      <th>75775</th>\n",
       "      <td>Gibraltar</td>\n",
       "      <td>GIB</td>\n",
       "      <td>Firms with female top manager (% of firms)</td>\n",
       "      <td>IC.FRM.FEMM.ZS</td>\n",
       "      <td>NaN</td>\n",
       "      <td>NaN</td>\n",
       "      <td>NaN</td>\n",
       "      <td>NaN</td>\n",
       "      <td>NaN</td>\n",
       "      <td>NaN</td>\n",
       "      <td>...</td>\n",
       "      <td>NaN</td>\n",
       "      <td>NaN</td>\n",
       "      <td>NaN</td>\n",
       "      <td>NaN</td>\n",
       "      <td>NaN</td>\n",
       "      <td>NaN</td>\n",
       "      <td>NaN</td>\n",
       "      <td>NaN</td>\n",
       "      <td>NaN</td>\n",
       "      <td>NaN</td>\n",
       "    </tr>\n",
       "  </tbody>\n",
       "</table>\n",
       "<p>10 rows × 63 columns</p>\n",
       "</div>"
      ],
      "text/plain": [
       "              Country Name Country Code  \\\n",
       "119872             Nigeria          NGA   \n",
       "140012        South Africa          ZAF   \n",
       "118408         New Zealand          NZL   \n",
       "102232    Macao SAR, China          MAC   \n",
       "140032        South Africa          ZAF   \n",
       "146965              Sweden          SWE   \n",
       "21592   Other small states          OSS   \n",
       "90872               Jordan          JOR   \n",
       "138142            Slovenia          SVN   \n",
       "75775            Gibraltar          GIB   \n",
       "\n",
       "                                           Indicator Name  \\\n",
       "119872  Female share of employment in senior and middl...   \n",
       "140012  Employment to population ratio, 15+, female (%...   \n",
       "118408  Women who own a house both alone and jointly (...   \n",
       "102232  Female share of employment in senior and middl...   \n",
       "140032  Female share of employment in senior and middl...   \n",
       "146965         Firms with female top manager (% of firms)   \n",
       "21592   Female share of employment in senior and middl...   \n",
       "90872   Employment to population ratio, 15+, female (%...   \n",
       "138142  Female share of employment in senior and middl...   \n",
       "75775          Firms with female top manager (% of firms)   \n",
       "\n",
       "                 Indicator Code  1960  1961  1962  1963  1964  1965  \\\n",
       "119872        SL.EMP.SMGT.FE.ZS   NaN   NaN   NaN   NaN   NaN   NaN   \n",
       "140012  SL.EMP.TOTL.SP.FE.NE.ZS   NaN   NaN   NaN   NaN   NaN   NaN   \n",
       "118408        SG.OWN.HSAJ.FE.ZS   NaN   NaN   NaN   NaN   NaN   NaN   \n",
       "102232        SL.EMP.SMGT.FE.ZS   NaN   NaN   NaN   NaN   NaN   NaN   \n",
       "140032        SL.EMP.SMGT.FE.ZS   NaN   NaN   NaN   NaN   NaN   NaN   \n",
       "146965           IC.FRM.FEMM.ZS   NaN   NaN   NaN   NaN   NaN   NaN   \n",
       "21592         SL.EMP.SMGT.FE.ZS   NaN   NaN   NaN   NaN   NaN   NaN   \n",
       "90872   SL.EMP.TOTL.SP.FE.NE.ZS   NaN   NaN   NaN   NaN   NaN   NaN   \n",
       "138142        SL.EMP.SMGT.FE.ZS   NaN   NaN   NaN   NaN   NaN   NaN   \n",
       "75775            IC.FRM.FEMM.ZS   NaN   NaN   NaN   NaN   NaN   NaN   \n",
       "\n",
       "           ...            2009       2010       2011       2012       2013  \\\n",
       "119872     ...             NaN        NaN        NaN        NaN        NaN   \n",
       "140012     ...       36.200001  34.349998  34.590000  34.869999  36.939999   \n",
       "118408     ...             NaN        NaN        NaN        NaN        NaN   \n",
       "102232     ...             NaN        NaN        NaN        NaN        NaN   \n",
       "140032     ...             NaN        NaN        NaN        NaN        NaN   \n",
       "146965     ...             NaN        NaN        NaN        NaN        NaN   \n",
       "21592      ...             NaN        NaN        NaN        NaN        NaN   \n",
       "90872      ...       11.300000  11.500000        NaN        NaN  10.300000   \n",
       "138142     ...       44.689999  43.250000  38.919998  40.259998  38.549999   \n",
       "75775      ...             NaN        NaN        NaN        NaN        NaN   \n",
       "\n",
       "             2014       2015  2016  2017  Unnamed: 62  \n",
       "119872        NaN        NaN   NaN   NaN          NaN  \n",
       "140012        NaN  34.529999   NaN   NaN          NaN  \n",
       "118408        NaN        NaN   NaN   NaN          NaN  \n",
       "102232  32.529999  32.799999   NaN   NaN          NaN  \n",
       "140032        NaN  29.750000   NaN   NaN          NaN  \n",
       "146965  12.500000        NaN   NaN   NaN          NaN  \n",
       "21592         NaN        NaN   NaN   NaN          NaN  \n",
       "90872   10.000000        NaN   NaN   NaN          NaN  \n",
       "138142  36.470001  36.980000   NaN   NaN          NaN  \n",
       "75775         NaN        NaN   NaN   NaN          NaN  \n",
       "\n",
       "[10 rows x 63 columns]"
      ]
     },
     "execution_count": 20,
     "metadata": {},
     "output_type": "execute_result"
    }
   ],
   "source": [
    "# Create a copy of the dataset that only contains the selected indicators\n",
    "fem_part_df = genderstats_raw[female_participation].copy()\n",
    "fem_part_df.sample(10)"
   ]
  },
  {
   "cell_type": "code",
   "execution_count": 21,
   "metadata": {},
   "outputs": [
    {
     "data": {
      "text/plain": [
       "Index(['Country Name', 'Country Code', 'Indicator Name', 'Indicator Code',\n",
       "       '2010'],\n",
       "      dtype='object')"
      ]
     },
     "execution_count": 21,
     "metadata": {},
     "output_type": "execute_result"
    }
   ],
   "source": [
    "# Drop columns that are not needed - only keep data for 2010\n",
    "# Also drop \"Indicator code\"\n",
    "\n",
    "keep_columns = [\"Country Name\", \"Country Code\", \"Indicator Name\", \"Indicator Code\", \"2010\"]\n",
    "\n",
    "for name in fem_part_df.columns:\n",
    "    if name not in keep_columns:\n",
    "        fem_part_df.drop(name, 1, inplace=True)\n",
    "\n",
    "fem_part_df.columns"
   ]
  },
  {
   "cell_type": "code",
   "execution_count": 22,
   "metadata": {},
   "outputs": [
    {
     "data": {
      "text/html": [
       "<div>\n",
       "<style>\n",
       "    .dataframe thead tr:only-child th {\n",
       "        text-align: right;\n",
       "    }\n",
       "\n",
       "    .dataframe thead th {\n",
       "        text-align: left;\n",
       "    }\n",
       "\n",
       "    .dataframe tbody tr th {\n",
       "        vertical-align: top;\n",
       "    }\n",
       "</style>\n",
       "<table border=\"1\" class=\"dataframe\">\n",
       "  <thead>\n",
       "    <tr style=\"text-align: right;\">\n",
       "      <th></th>\n",
       "      <th>Country Name</th>\n",
       "      <th>Country Code</th>\n",
       "      <th>Indicator Name</th>\n",
       "      <th>Indicator Code</th>\n",
       "      <th>2010</th>\n",
       "    </tr>\n",
       "  </thead>\n",
       "  <tbody>\n",
       "    <tr>\n",
       "      <th>83332</th>\n",
       "      <td>Hungary</td>\n",
       "      <td>HUN</td>\n",
       "      <td>Female share of employment in senior and middl...</td>\n",
       "      <td>SL.EMP.SMGT.FE.ZS</td>\n",
       "      <td>39.959999</td>\n",
       "    </tr>\n",
       "    <tr>\n",
       "      <th>117962</th>\n",
       "      <td>New Zealand</td>\n",
       "      <td>NZL</td>\n",
       "      <td>Employment to population ratio, 15+, female (%...</td>\n",
       "      <td>SL.EMP.TOTL.SP.FE.NE.ZS</td>\n",
       "      <td>57.680000</td>\n",
       "    </tr>\n",
       "    <tr>\n",
       "      <th>102212</th>\n",
       "      <td>Macao SAR, China</td>\n",
       "      <td>MAC</td>\n",
       "      <td>Employment to population ratio, 15+, female (%...</td>\n",
       "      <td>SL.EMP.TOTL.SP.FE.NE.ZS</td>\n",
       "      <td>64.709999</td>\n",
       "    </tr>\n",
       "    <tr>\n",
       "      <th>36692</th>\n",
       "      <td>Azerbaijan</td>\n",
       "      <td>AZE</td>\n",
       "      <td>Employment to population ratio, 15+, female (%...</td>\n",
       "      <td>SL.EMP.TOTL.SP.FE.NE.ZS</td>\n",
       "      <td>57.680000</td>\n",
       "    </tr>\n",
       "    <tr>\n",
       "      <th>39235</th>\n",
       "      <td>Barbados</td>\n",
       "      <td>BRB</td>\n",
       "      <td>Firms with female top manager (% of firms)</td>\n",
       "      <td>IC.FRM.FEMM.ZS</td>\n",
       "      <td>25.400000</td>\n",
       "    </tr>\n",
       "  </tbody>\n",
       "</table>\n",
       "</div>"
      ],
      "text/plain": [
       "            Country Name Country Code  \\\n",
       "83332            Hungary          HUN   \n",
       "117962       New Zealand          NZL   \n",
       "102212  Macao SAR, China          MAC   \n",
       "36692         Azerbaijan          AZE   \n",
       "39235           Barbados          BRB   \n",
       "\n",
       "                                           Indicator Name  \\\n",
       "83332   Female share of employment in senior and middl...   \n",
       "117962  Employment to population ratio, 15+, female (%...   \n",
       "102212  Employment to population ratio, 15+, female (%...   \n",
       "36692   Employment to population ratio, 15+, female (%...   \n",
       "39235          Firms with female top manager (% of firms)   \n",
       "\n",
       "                 Indicator Code       2010  \n",
       "83332         SL.EMP.SMGT.FE.ZS  39.959999  \n",
       "117962  SL.EMP.TOTL.SP.FE.NE.ZS  57.680000  \n",
       "102212  SL.EMP.TOTL.SP.FE.NE.ZS  64.709999  \n",
       "36692   SL.EMP.TOTL.SP.FE.NE.ZS  57.680000  \n",
       "39235            IC.FRM.FEMM.ZS  25.400000  "
      ]
     },
     "execution_count": 22,
     "metadata": {},
     "output_type": "execute_result"
    }
   ],
   "source": [
    "# Drop rows with NaN values\n",
    "fem_part_df.dropna(axis=0, inplace=True)\n",
    "fem_part_df.sample(5)"
   ]
  },
  {
   "cell_type": "code",
   "execution_count": 23,
   "metadata": {},
   "outputs": [
    {
     "data": {
      "text/plain": [
       "(228, 5)"
      ]
     },
     "execution_count": 23,
     "metadata": {},
     "output_type": "execute_result"
    }
   ],
   "source": [
    "# Check the number of observations\n",
    "fem_part_df.shape"
   ]
  },
  {
   "cell_type": "code",
   "execution_count": 24,
   "metadata": {},
   "outputs": [
    {
     "data": {
      "text/plain": [
       "156"
      ]
     },
     "execution_count": 24,
     "metadata": {},
     "output_type": "execute_result"
    }
   ],
   "source": [
    "# Check number of unique countries in df\n",
    "len(fem_part_df['Country Name'].unique())"
   ]
  },
  {
   "cell_type": "markdown",
   "metadata": {},
   "source": [
    "<p style=\"font-family: Calibri; font-size:2.00em;color:seagreen; font-style:bold\">Merge the datasets</p>\n",
    "\n",
    "The first step is to only select countries that occur in all three datasets."
   ]
  },
  {
   "cell_type": "code",
   "execution_count": 25,
   "metadata": {},
   "outputs": [
    {
     "name": "stdout",
     "output_type": "stream",
     "text": [
      "The World Development Indicators: 249 countries\n",
      "The Education Stats dataset: 150 countries\n",
      "The Gender Stats dataset: 156 countries\n"
     ]
    }
   ],
   "source": [
    "print(\"The World Development Indicators: \" + str(len(wdi_gdp[\"Country Name\"].unique())) + \" countries\")\n",
    "print(\"The Education Stats dataset: \" + str(len(fem_att_df[\"Country Name\"].unique())) + \" countries\")\n",
    "print(\"The Gender Stats dataset: \" + str(len(fem_part_df['Country Name'].unique())) + \" countries\")"
   ]
  },
  {
   "cell_type": "markdown",
   "metadata": {},
   "source": [
    "To ensure that only countries are included in the final dataset that have observations across all three datasets, I will remove country observations that only occur in either one or two of the datasets."
   ]
  },
  {
   "cell_type": "code",
   "execution_count": 26,
   "metadata": {},
   "outputs": [
    {
     "name": "stdout",
     "output_type": "stream",
     "text": [
      "['ALB', 'ARG', 'ARM', 'AUS', 'AUT', 'AZE', 'BDI', 'BEL', 'BEN', 'BGD', 'BGR', 'BHR', 'BHS', 'BIH', 'BLZ', 'BMU', 'BOL', 'BRA', 'BRB', 'BWA', 'CAN', 'CHE', 'CHL', 'CMR', 'COD', 'COL', 'CRI', 'CYP', 'CZE', 'DEU', 'DNK', 'DOM', 'DZA', 'ECU', 'EGY', 'ESP', 'EST', 'FIN', 'FRA', 'GAB', 'GBR', 'GHA', 'GRC', 'GTM', 'GUY', 'HKG', 'HND', 'HRV', 'HUN', 'IDN', 'IND', 'IRL', 'IRN', 'ISL', 'ISR', 'ITA', 'JAM', 'JOR', 'JPN', 'KGZ', 'KHM', 'KOR', 'KWT', 'LBR', 'LKA', 'LTU', 'LUX', 'LVA', 'MAC', 'MAR', 'MDA', 'MDV', 'MEX', 'MLI', 'MLT', 'MUS', 'MYS', 'NIC', 'NLD', 'NOR', 'NZL', 'OMN', 'PAK', 'PAN', 'PER', 'PHL', 'POL', 'PRT', 'PRY', 'PSE', 'QAT', 'ROU', 'RUS', 'RWA', 'SGP', 'SLV', 'SRB', 'SVK', 'SVN', 'SWE', 'THA', 'TTO', 'TUN', 'TUR', 'UKR', 'URY', 'USA', 'VEN', 'VNM', 'YEM', 'ZAF']\n"
     ]
    }
   ],
   "source": [
    "set1 = wdi_gdp[\"Country Code\"]\n",
    "set2 = fem_att_df[\"Country Code\"]\n",
    "set3 = fem_part_df[\"Country Code\"]\n",
    "\n",
    "countries = list(set(set(set1).intersection(set2)).intersection(set3))\n",
    "print(sorted(countries))"
   ]
  },
  {
   "cell_type": "markdown",
   "metadata": {},
   "source": [
    "All dataframes have the same number of columns, which are also named identically. Therefore, they can be easily concatenated."
   ]
  },
  {
   "cell_type": "code",
   "execution_count": 27,
   "metadata": {},
   "outputs": [
    {
     "data": {
      "text/html": [
       "<div>\n",
       "<style>\n",
       "    .dataframe thead tr:only-child th {\n",
       "        text-align: right;\n",
       "    }\n",
       "\n",
       "    .dataframe thead th {\n",
       "        text-align: left;\n",
       "    }\n",
       "\n",
       "    .dataframe tbody tr th {\n",
       "        vertical-align: top;\n",
       "    }\n",
       "</style>\n",
       "<table border=\"1\" class=\"dataframe\">\n",
       "  <thead>\n",
       "    <tr style=\"text-align: right;\">\n",
       "      <th></th>\n",
       "      <th>Country Name</th>\n",
       "      <th>Country Code</th>\n",
       "      <th>Indicator Name</th>\n",
       "      <th>Indicator Code</th>\n",
       "      <th>2010</th>\n",
       "    </tr>\n",
       "  </thead>\n",
       "  <tbody>\n",
       "    <tr>\n",
       "      <th>100952</th>\n",
       "      <td>Lithuania</td>\n",
       "      <td>LTU</td>\n",
       "      <td>Employment to population ratio, 15+, female (%...</td>\n",
       "      <td>SL.EMP.TOTL.SP.FE.NE.ZS</td>\n",
       "      <td>44.900002</td>\n",
       "    </tr>\n",
       "    <tr>\n",
       "      <th>51182</th>\n",
       "      <td>Canada</td>\n",
       "      <td>CAN</td>\n",
       "      <td>Employment to population ratio, 15+, female (%...</td>\n",
       "      <td>SL.EMP.TOTL.SP.FE.NE.ZS</td>\n",
       "      <td>57.900002</td>\n",
       "    </tr>\n",
       "    <tr>\n",
       "      <th>626924</th>\n",
       "      <td>Norway</td>\n",
       "      <td>NOR</td>\n",
       "      <td>Barro-Lee: Average years of tertiary schooling...</td>\n",
       "      <td>BAR.TER.SCHL.15UP.FE</td>\n",
       "      <td>0.820000</td>\n",
       "    </tr>\n",
       "    <tr>\n",
       "      <th>615929</th>\n",
       "      <td>Niger</td>\n",
       "      <td>NER</td>\n",
       "      <td>Barro-Lee: Average years of tertiary schooling...</td>\n",
       "      <td>BAR.TER.SCHL.15UP.FE</td>\n",
       "      <td>0.020000</td>\n",
       "    </tr>\n",
       "    <tr>\n",
       "      <th>83312</th>\n",
       "      <td>Hungary</td>\n",
       "      <td>HUN</td>\n",
       "      <td>Employment to population ratio, 15+, female (%...</td>\n",
       "      <td>SL.EMP.TOTL.SP.FE.NE.ZS</td>\n",
       "      <td>39.110001</td>\n",
       "    </tr>\n",
       "  </tbody>\n",
       "</table>\n",
       "</div>"
      ],
      "text/plain": [
       "       Country Name Country Code  \\\n",
       "100952    Lithuania          LTU   \n",
       "51182        Canada          CAN   \n",
       "626924       Norway          NOR   \n",
       "615929        Niger          NER   \n",
       "83312       Hungary          HUN   \n",
       "\n",
       "                                           Indicator Name  \\\n",
       "100952  Employment to population ratio, 15+, female (%...   \n",
       "51182   Employment to population ratio, 15+, female (%...   \n",
       "626924  Barro-Lee: Average years of tertiary schooling...   \n",
       "615929  Barro-Lee: Average years of tertiary schooling...   \n",
       "83312   Employment to population ratio, 15+, female (%...   \n",
       "\n",
       "                 Indicator Code       2010  \n",
       "100952  SL.EMP.TOTL.SP.FE.NE.ZS  44.900002  \n",
       "51182   SL.EMP.TOTL.SP.FE.NE.ZS  57.900002  \n",
       "626924     BAR.TER.SCHL.15UP.FE   0.820000  \n",
       "615929     BAR.TER.SCHL.15UP.FE   0.020000  \n",
       "83312   SL.EMP.TOTL.SP.FE.NE.ZS  39.110001  "
      ]
     },
     "execution_count": 27,
     "metadata": {},
     "output_type": "execute_result"
    }
   ],
   "source": [
    "frames = [wdi_gdp, fem_att_df, fem_part_df]\n",
    "research_df = pd.concat(frames)\n",
    "research_df.sample(5)"
   ]
  },
  {
   "cell_type": "code",
   "execution_count": 28,
   "metadata": {},
   "outputs": [
    {
     "data": {
      "text/html": [
       "<div>\n",
       "<style>\n",
       "    .dataframe thead tr:only-child th {\n",
       "        text-align: right;\n",
       "    }\n",
       "\n",
       "    .dataframe thead th {\n",
       "        text-align: left;\n",
       "    }\n",
       "\n",
       "    .dataframe tbody tr th {\n",
       "        vertical-align: top;\n",
       "    }\n",
       "</style>\n",
       "<table border=\"1\" class=\"dataframe\">\n",
       "  <thead>\n",
       "    <tr style=\"text-align: right;\">\n",
       "      <th></th>\n",
       "      <th>Country Name</th>\n",
       "      <th>Country Code</th>\n",
       "      <th>Indicator Name</th>\n",
       "      <th>Indicator Code</th>\n",
       "      <th>2010</th>\n",
       "    </tr>\n",
       "  </thead>\n",
       "  <tbody>\n",
       "    <tr>\n",
       "      <th>659909</th>\n",
       "      <td>Poland</td>\n",
       "      <td>POL</td>\n",
       "      <td>Barro-Lee: Average years of tertiary schooling...</td>\n",
       "      <td>BAR.TER.SCHL.15UP.FE</td>\n",
       "      <td>0.670000</td>\n",
       "    </tr>\n",
       "    <tr>\n",
       "      <th>121742</th>\n",
       "      <td>Oman</td>\n",
       "      <td>OMN</td>\n",
       "      <td>Employment to population ratio, 15+, female (%...</td>\n",
       "      <td>SL.EMP.TOTL.SP.FE.NE.ZS</td>\n",
       "      <td>23.840000</td>\n",
       "    </tr>\n",
       "    <tr>\n",
       "      <th>96801</th>\n",
       "      <td>Bangladesh</td>\n",
       "      <td>BGD</td>\n",
       "      <td>GDP per capita (constant 2010 US$)</td>\n",
       "      <td>NY.GDP.PCAP.KD</td>\n",
       "      <td>757.671757</td>\n",
       "    </tr>\n",
       "    <tr>\n",
       "      <th>381000</th>\n",
       "      <td>Turkey</td>\n",
       "      <td>TUR</td>\n",
       "      <td>GDP per capita (constant 2010 US$)</td>\n",
       "      <td>NY.GDP.PCAP.KD</td>\n",
       "      <td>10672.056926</td>\n",
       "    </tr>\n",
       "    <tr>\n",
       "      <th>43645</th>\n",
       "      <td>Bolivia</td>\n",
       "      <td>BOL</td>\n",
       "      <td>Firms with female top manager (% of firms)</td>\n",
       "      <td>IC.FRM.FEMM.ZS</td>\n",
       "      <td>21.700000</td>\n",
       "    </tr>\n",
       "  </tbody>\n",
       "</table>\n",
       "</div>"
      ],
      "text/plain": [
       "       Country Name Country Code  \\\n",
       "659909       Poland          POL   \n",
       "121742         Oman          OMN   \n",
       "96801    Bangladesh          BGD   \n",
       "381000       Turkey          TUR   \n",
       "43645       Bolivia          BOL   \n",
       "\n",
       "                                           Indicator Name  \\\n",
       "659909  Barro-Lee: Average years of tertiary schooling...   \n",
       "121742  Employment to population ratio, 15+, female (%...   \n",
       "96801                  GDP per capita (constant 2010 US$)   \n",
       "381000                 GDP per capita (constant 2010 US$)   \n",
       "43645          Firms with female top manager (% of firms)   \n",
       "\n",
       "                 Indicator Code          2010  \n",
       "659909     BAR.TER.SCHL.15UP.FE      0.670000  \n",
       "121742  SL.EMP.TOTL.SP.FE.NE.ZS     23.840000  \n",
       "96801            NY.GDP.PCAP.KD    757.671757  \n",
       "381000           NY.GDP.PCAP.KD  10672.056926  \n",
       "43645            IC.FRM.FEMM.ZS     21.700000  "
      ]
     },
     "execution_count": 28,
     "metadata": {},
     "output_type": "execute_result"
    }
   ],
   "source": [
    "# Remove countries not in the 'countries' list\n",
    "\n",
    "research_df = research_df[research_df[\"Country Code\"].isin(countries)]\n",
    "research_df.sample(5)"
   ]
  },
  {
   "cell_type": "code",
   "execution_count": 29,
   "metadata": {},
   "outputs": [
    {
     "data": {
      "text/plain": [
       "array(['ALB', 'DZA', 'ARG', 'ARM', 'AUS', 'AUT', 'AZE', 'BHS', 'BHR',\n",
       "       'BGD', 'BRB', 'BEL', 'BLZ', 'BEN', 'BMU', 'BOL', 'BIH', 'BWA',\n",
       "       'BRA', 'BGR', 'BDI', 'KHM', 'CMR', 'CAN', 'CHL', 'COL', 'COD',\n",
       "       'CRI', 'HRV', 'CYP', 'CZE', 'DNK', 'DOM', 'ECU', 'EGY', 'SLV',\n",
       "       'EST', 'FIN', 'FRA', 'GAB', 'DEU', 'GHA', 'GRC', 'GTM', 'GUY',\n",
       "       'HND', 'HKG', 'HUN', 'ISL', 'IND', 'IDN', 'IRN', 'IRL', 'ISR',\n",
       "       'ITA', 'JAM', 'JPN', 'JOR', 'KOR', 'KWT', 'KGZ', 'LVA', 'LBR',\n",
       "       'LTU', 'LUX', 'MAC', 'MYS', 'MDV', 'MLI', 'MLT', 'MUS', 'MEX',\n",
       "       'MDA', 'MAR', 'NLD', 'NZL', 'NIC', 'NOR', 'OMN', 'PAK', 'PAN',\n",
       "       'PRY', 'PER', 'PHL', 'POL', 'PRT', 'QAT', 'ROU', 'RUS', 'RWA',\n",
       "       'SRB', 'SGP', 'SVK', 'SVN', 'ZAF', 'ESP', 'LKA', 'SWE', 'CHE',\n",
       "       'THA', 'TTO', 'TUN', 'TUR', 'UKR', 'GBR', 'USA', 'URY', 'VEN',\n",
       "       'VNM', 'PSE', 'YEM'], dtype=object)"
      ]
     },
     "execution_count": 29,
     "metadata": {},
     "output_type": "execute_result"
    }
   ],
   "source": [
    "research_df[\"Country Code\"].unique()"
   ]
  },
  {
   "cell_type": "code",
   "execution_count": 30,
   "metadata": {},
   "outputs": [
    {
     "data": {
      "text/html": [
       "<div>\n",
       "<style>\n",
       "    .dataframe thead tr:only-child th {\n",
       "        text-align: right;\n",
       "    }\n",
       "\n",
       "    .dataframe thead th {\n",
       "        text-align: left;\n",
       "    }\n",
       "\n",
       "    .dataframe tbody tr th {\n",
       "        vertical-align: top;\n",
       "    }\n",
       "</style>\n",
       "<table border=\"1\" class=\"dataframe\">\n",
       "  <thead>\n",
       "    <tr style=\"text-align: right;\">\n",
       "      <th></th>\n",
       "      <th>Country Name</th>\n",
       "      <th>Country Code</th>\n",
       "      <th>Indicator Name</th>\n",
       "      <th>Indicator Code</th>\n",
       "      <th>2010</th>\n",
       "    </tr>\n",
       "  </thead>\n",
       "  <tbody>\n",
       "    <tr>\n",
       "      <th>75059</th>\n",
       "      <td>Albania</td>\n",
       "      <td>ALB</td>\n",
       "      <td>GDP per capita (constant 2010 US$)</td>\n",
       "      <td>NY.GDP.PCAP.KD</td>\n",
       "      <td>4094.358832</td>\n",
       "    </tr>\n",
       "    <tr>\n",
       "      <th>95499</th>\n",
       "      <td>Albania</td>\n",
       "      <td>ALB</td>\n",
       "      <td>Barro-Lee: Average years of tertiary schooling...</td>\n",
       "      <td>BAR.TER.SCHL.15UP.FE</td>\n",
       "      <td>0.060000</td>\n",
       "    </tr>\n",
       "    <tr>\n",
       "      <th>29762</th>\n",
       "      <td>Albania</td>\n",
       "      <td>ALB</td>\n",
       "      <td>Employment to population ratio, 15+, female (%...</td>\n",
       "      <td>SL.EMP.TOTL.SP.FE.NE.ZS</td>\n",
       "      <td>44.400002</td>\n",
       "    </tr>\n",
       "  </tbody>\n",
       "</table>\n",
       "</div>"
      ],
      "text/plain": [
       "      Country Name Country Code  \\\n",
       "75059      Albania          ALB   \n",
       "95499      Albania          ALB   \n",
       "29762      Albania          ALB   \n",
       "\n",
       "                                          Indicator Name  \\\n",
       "75059                 GDP per capita (constant 2010 US$)   \n",
       "95499  Barro-Lee: Average years of tertiary schooling...   \n",
       "29762  Employment to population ratio, 15+, female (%...   \n",
       "\n",
       "                Indicator Code         2010  \n",
       "75059           NY.GDP.PCAP.KD  4094.358832  \n",
       "95499     BAR.TER.SCHL.15UP.FE     0.060000  \n",
       "29762  SL.EMP.TOTL.SP.FE.NE.ZS    44.400002  "
      ]
     },
     "execution_count": 30,
     "metadata": {},
     "output_type": "execute_result"
    }
   ],
   "source": [
    "research_df[research_df[\"Country Code\"] == \"ALB\"]"
   ]
  },
  {
   "cell_type": "markdown",
   "metadata": {},
   "source": [
    "Lastly, before I can start the regression analysis, I want to reshape my dataframe so that every indicator has its own column."
   ]
  },
  {
   "cell_type": "code",
   "execution_count": 31,
   "metadata": {
    "collapsed": true
   },
   "outputs": [],
   "source": [
    "research_df = research_df.pivot(index=\"Country Code\", columns=\"Indicator Code\", values=\"2010\")"
   ]
  },
  {
   "cell_type": "code",
   "execution_count": 32,
   "metadata": {},
   "outputs": [
    {
     "data": {
      "text/plain": [
       "(111, 7)"
      ]
     },
     "execution_count": 32,
     "metadata": {},
     "output_type": "execute_result"
    }
   ],
   "source": [
    "research_df.shape"
   ]
  },
  {
   "cell_type": "code",
   "execution_count": 33,
   "metadata": {},
   "outputs": [
    {
     "data": {
      "text/plain": [
       "Indicator Code\n",
       "BAR.TER.SCHL.15UP.FE         6\n",
       "IC.FRM.FEMM.ZS              84\n",
       "NY.GDP.PCAP.KD               0\n",
       "SG.OWN.HSAJ.FE.ZS          108\n",
       "SL.EMP.SMGT.FE.ZS           65\n",
       "SL.EMP.TOTL.SP.FE.NE.ZS      8\n",
       "UIS.EA.6.AG25T99.F          47\n",
       "dtype: int64"
      ]
     },
     "execution_count": 33,
     "metadata": {},
     "output_type": "execute_result"
    }
   ],
   "source": [
    "research_df.isnull().sum(axis=0)"
   ]
  },
  {
   "cell_type": "markdown",
   "metadata": {},
   "source": [
    "Due to the large number of NaN numbers in some of the columns for the countries selected, I will have to drop the following columns, as otherwise my number of observations would become too low:\n",
    "- Firms with female top manager (% of firms) (IC.FRM.FEMM.ZS)  \n",
    "- Women who own a house both alone and jointly (% of women age 15-49) (SG.OWN.HSAJ.FE.ZS)\n",
    "- Female share of employment in senior and middle management (%) (SL.EMP.SMGT.FE.ZS)\n",
    "- UIS: Percentage of population age 25+ with a completed bachelor's or equivalent degree (ISCED 6). Female (UIS.EA.6.AG25T99.F)"
   ]
  },
  {
   "cell_type": "code",
   "execution_count": 34,
   "metadata": {
    "collapsed": true
   },
   "outputs": [],
   "source": [
    "research_df.drop([\"IC.FRM.FEMM.ZS\", \"SG.OWN.HSAJ.FE.ZS\", \"SL.EMP.SMGT.FE.ZS\", \"UIS.EA.6.AG25T99.F\"], axis=1, inplace=True)"
   ]
  },
  {
   "cell_type": "code",
   "execution_count": 35,
   "metadata": {},
   "outputs": [
    {
     "data": {
      "text/html": [
       "<div>\n",
       "<style>\n",
       "    .dataframe thead tr:only-child th {\n",
       "        text-align: right;\n",
       "    }\n",
       "\n",
       "    .dataframe thead th {\n",
       "        text-align: left;\n",
       "    }\n",
       "\n",
       "    .dataframe tbody tr th {\n",
       "        vertical-align: top;\n",
       "    }\n",
       "</style>\n",
       "<table border=\"1\" class=\"dataframe\">\n",
       "  <thead>\n",
       "    <tr style=\"text-align: right;\">\n",
       "      <th>Indicator Code</th>\n",
       "      <th>BAR.TER.SCHL.15UP.FE</th>\n",
       "      <th>NY.GDP.PCAP.KD</th>\n",
       "      <th>SL.EMP.TOTL.SP.FE.NE.ZS</th>\n",
       "    </tr>\n",
       "    <tr>\n",
       "      <th>Country Code</th>\n",
       "      <th></th>\n",
       "      <th></th>\n",
       "      <th></th>\n",
       "    </tr>\n",
       "  </thead>\n",
       "  <tbody>\n",
       "    <tr>\n",
       "      <th>DNK</th>\n",
       "      <td>0.82</td>\n",
       "      <td>58041.411225</td>\n",
       "      <td>55.939999</td>\n",
       "    </tr>\n",
       "    <tr>\n",
       "      <th>NOR</th>\n",
       "      <td>0.82</td>\n",
       "      <td>87646.753463</td>\n",
       "      <td>66.620003</td>\n",
       "    </tr>\n",
       "    <tr>\n",
       "      <th>URY</th>\n",
       "      <td>0.27</td>\n",
       "      <td>11938.212005</td>\n",
       "      <td>48.919998</td>\n",
       "    </tr>\n",
       "    <tr>\n",
       "      <th>BGD</th>\n",
       "      <td>0.10</td>\n",
       "      <td>757.671757</td>\n",
       "      <td>33.939999</td>\n",
       "    </tr>\n",
       "    <tr>\n",
       "      <th>MEX</th>\n",
       "      <td>0.51</td>\n",
       "      <td>8959.581416</td>\n",
       "      <td>40.310001</td>\n",
       "    </tr>\n",
       "    <tr>\n",
       "      <th>LVA</th>\n",
       "      <td>0.68</td>\n",
       "      <td>11326.219475</td>\n",
       "      <td>45.130001</td>\n",
       "    </tr>\n",
       "    <tr>\n",
       "      <th>BHR</th>\n",
       "      <td>0.35</td>\n",
       "      <td>20722.103890</td>\n",
       "      <td>42.080002</td>\n",
       "    </tr>\n",
       "    <tr>\n",
       "      <th>CAN</th>\n",
       "      <td>1.39</td>\n",
       "      <td>47447.476024</td>\n",
       "      <td>57.900002</td>\n",
       "    </tr>\n",
       "    <tr>\n",
       "      <th>HND</th>\n",
       "      <td>0.11</td>\n",
       "      <td>1932.858290</td>\n",
       "      <td>41.009998</td>\n",
       "    </tr>\n",
       "    <tr>\n",
       "      <th>KWT</th>\n",
       "      <td>0.30</td>\n",
       "      <td>38497.616958</td>\n",
       "      <td>57.799999</td>\n",
       "    </tr>\n",
       "  </tbody>\n",
       "</table>\n",
       "</div>"
      ],
      "text/plain": [
       "Indicator Code  BAR.TER.SCHL.15UP.FE  NY.GDP.PCAP.KD  SL.EMP.TOTL.SP.FE.NE.ZS\n",
       "Country Code                                                                 \n",
       "DNK                             0.82    58041.411225                55.939999\n",
       "NOR                             0.82    87646.753463                66.620003\n",
       "URY                             0.27    11938.212005                48.919998\n",
       "BGD                             0.10      757.671757                33.939999\n",
       "MEX                             0.51     8959.581416                40.310001\n",
       "LVA                             0.68    11326.219475                45.130001\n",
       "BHR                             0.35    20722.103890                42.080002\n",
       "CAN                             1.39    47447.476024                57.900002\n",
       "HND                             0.11     1932.858290                41.009998\n",
       "KWT                             0.30    38497.616958                57.799999"
      ]
     },
     "execution_count": 35,
     "metadata": {},
     "output_type": "execute_result"
    }
   ],
   "source": [
    "research_df.dropna(axis=0, inplace=True)\n",
    "research_df.sample(10)"
   ]
  },
  {
   "cell_type": "code",
   "execution_count": 36,
   "metadata": {},
   "outputs": [
    {
     "data": {
      "text/plain": [
       "(98, 3)"
      ]
     },
     "execution_count": 36,
     "metadata": {},
     "output_type": "execute_result"
    }
   ],
   "source": [
    "research_df.shape"
   ]
  },
  {
   "cell_type": "markdown",
   "metadata": {},
   "source": [
    "<p style=\"font-family: Calibri; font-size:2.00em;color:seagreen; font-style:bold\">Visualise the data</p>\n",
    "The remaining columns in the merged dataset are:\n",
    "* Country Code\n",
    "* Average years of tertiary schooling, 15+, female is the average years of tertiary education completed among females over age 15 (BAR.TER.SCHL.15UP.FE)\n",
    "* Employment to population ratio, 15+, female (%) (national estimate) (SL.EMP.TOTL.SP.FE.NE.ZS)\n",
    "* GDP per capita (constant 2010 US$) (NY.GDP.PCAP.KD)\n",
    "I will use the first two indicators to predict the GDP."
   ]
  },
  {
   "cell_type": "code",
   "execution_count": 37,
   "metadata": {},
   "outputs": [
    {
     "data": {
      "image/png": "[encoded data removed]",
      "text/plain": [
       "<matplotlib.figure.Figure at 0x2611048e198>"
      ]
     },
     "metadata": {},
     "output_type": "display_data"
    }
   ],
   "source": [
    "# Visualise the relationship between the average years of tertiary school and GDP,\n",
    "# and between employment to population ratio and GDP\n",
    "\n",
    "plt.scatter(research_df[\"BAR.TER.SCHL.15UP.FE\"], research_df[\"NY.GDP.PCAP.KD\"])\n",
    "plt.savefig(\"Scatterplot average years tertiary school vs GDP.png\", transparant=True)\n",
    "plt.show()"
   ]
  },
  {
   "cell_type": "code",
   "execution_count": 38,
   "metadata": {},
   "outputs": [
    {
     "data": {
      "image/png": "[encoded data removed]",
      "text/plain": [
       "<matplotlib.figure.Figure at 0x261110ea0b8>"
      ]
     },
     "metadata": {},
     "output_type": "display_data"
    }
   ],
   "source": [
    "plt.scatter(research_df[\"SL.EMP.TOTL.SP.FE.NE.ZS\"], research_df[\"NY.GDP.PCAP.KD\"])\n",
    "plt.savefig(\"Scatterplot female employment vs GDP.png\", transparant=True)\n",
    "plt.show()"
   ]
  },
  {
   "cell_type": "code",
   "execution_count": 39,
   "metadata": {},
   "outputs": [
    {
     "data": {
      "image/png": "[encoded data removed]",
      "text/plain": [
       "<matplotlib.figure.Figure at 0x261111871d0>"
      ]
     },
     "metadata": {},
     "output_type": "display_data"
    }
   ],
   "source": [
    "# Visualise GDP per capita per country\n",
    "GDP_per_capita = research_df[\"NY.GDP.PCAP.KD\"].sort_values(ascending=False)\n",
    "GDP_per_capita.plot.bar(figsize=(20,10), subplots=True)\n",
    "plt.style.use('seaborn-pastel')\n",
    "plt.savefig(\"GDP_per_capita_per_country.png\", transparant=True)\n",
    "plt.show()"
   ]
  },
  {
   "cell_type": "markdown",
   "metadata": {},
   "source": [
    "<p style=\"font-family: Calibri; font-size:2.00em;color:seagreen; font-style:bold\">The Regression Analysis</p>\n",
    "Based on the cleaned and merged dataset I will now conduct a regression analysis. First, I will split the dataframe in a target and independent variables. Then I will split the dataset into a training and a test set."
   ]
  },
  {
   "cell_type": "code",
   "execution_count": 40,
   "metadata": {},
   "outputs": [],
   "source": [
    "# Split the dataframe in a target ('Y') and independent variables ('X')\n",
    "X = research_df[[\"BAR.TER.SCHL.15UP.FE\", \"SL.EMP.TOTL.SP.FE.NE.ZS\"]]\n",
    "Y = research_df[\"NY.GDP.PCAP.KD\"]"
   ]
  },
  {
   "cell_type": "code",
   "execution_count": 41,
   "metadata": {
    "collapsed": true
   },
   "outputs": [],
   "source": [
    "# Create a training and a test subset\n",
    "X_train, X_test, Y_train, Y_test = train_test_split(X, Y, test_size=0.33, random_state=324)"
   ]
  },
  {
   "cell_type": "code",
   "execution_count": 42,
   "metadata": {},
   "outputs": [
    {
     "data": {
      "text/plain": [
       "count       33.000000\n",
       "mean     10440.814981\n",
       "std      11476.373437\n",
       "min        708.370763\n",
       "25%       2602.479549\n",
       "50%       6250.655044\n",
       "75%      13505.745863\n",
       "max      41785.556913\n",
       "Name: NY.GDP.PCAP.KD, dtype: float64"
      ]
     },
     "execution_count": 42,
     "metadata": {},
     "output_type": "execute_result"
    }
   ],
   "source": [
    "# Describe Y_test\n",
    "Y_test.describe()"
   ]
  },
  {
   "cell_type": "code",
   "execution_count": 43,
   "metadata": {},
   "outputs": [
    {
     "data": {
      "text/plain": [
       "LinearRegression(copy_X=True, fit_intercept=True, n_jobs=1, normalize=False)"
      ]
     },
     "execution_count": 43,
     "metadata": {},
     "output_type": "execute_result"
    }
   ],
   "source": [
    "# Fit a regression model to the training set\n",
    "regressor = LinearRegression()\n",
    "regressor.fit(X_train, Y_train)"
   ]
  },
  {
   "cell_type": "code",
   "execution_count": 44,
   "metadata": {},
   "outputs": [
    {
     "data": {
      "text/plain": [
       "array([ 27870.27805002,   3833.15525449,  19295.86561819,  39739.32848399,\n",
       "         3531.00526076,   1640.13356811,  11964.68879519,  25935.58459064,\n",
       "        -4124.6428334 ,  24223.94997937,  22654.47380313,   5349.380696  ,\n",
       "        27699.54990462,  26473.55232792,  29244.93898784,  21043.16183592,\n",
       "        33904.05081789,  20861.00972969,  30548.19344724,  18939.46739332,\n",
       "        29670.49890179,  21105.32623193,  12621.4825357 ,  17875.37426286,\n",
       "        43012.69517404,    541.87565592,  16711.20364397,  39778.9960545 ,\n",
       "         8356.67854226,  34560.07855966,    557.03658993,  25095.96502773,\n",
       "        10960.66814444])"
      ]
     },
     "execution_count": 44,
     "metadata": {},
     "output_type": "execute_result"
    }
   ],
   "source": [
    "# Use the trained model to predict GDP\n",
    "Y_prediction = regressor.predict(X_test)\n",
    "Y_prediction"
   ]
  },
  {
   "cell_type": "code",
   "execution_count": 45,
   "metadata": {},
   "outputs": [
    {
     "name": "stdout",
     "output_type": "stream",
     "text": [
      "19741.6668193\n",
      "10440.814980790017\n"
     ]
    }
   ],
   "source": [
    "# Compare the mean of Y_prediction with the mean of Y_test\n",
    "print(Y_prediction.mean())\n",
    "print(Y_test.mean())"
   ]
  },
  {
   "cell_type": "code",
   "execution_count": 46,
   "metadata": {},
   "outputs": [
    {
     "name": "stdout",
     "output_type": "stream",
     "text": [
      "15046.334735932869\n"
     ]
    }
   ],
   "source": [
    "# Evaluate the model by using the Root Mean Square Error\n",
    "RMSE = sqrt(mean_squared_error(y_true = Y_test, y_pred = Y_prediction))\n",
    "print(RMSE)"
   ]
  },
  {
   "cell_type": "markdown",
   "metadata": {},
   "source": [
    "The mean of the predicted GDP values is almost twice as much as the mean of the actual GDP values, and the RMSE is 1.5 times the mean of the actual GDP values. It seems that the used indicators cannot be used as indicators of a country's GDP."
   ]
  },
  {
   "cell_type": "code",
   "execution_count": 47,
   "metadata": {},
   "outputs": [
    {
     "data": {
      "text/html": [
       "<div>\n",
       "<style>\n",
       "    .dataframe thead tr:only-child th {\n",
       "        text-align: right;\n",
       "    }\n",
       "\n",
       "    .dataframe thead th {\n",
       "        text-align: left;\n",
       "    }\n",
       "\n",
       "    .dataframe tbody tr th {\n",
       "        vertical-align: top;\n",
       "    }\n",
       "</style>\n",
       "<table border=\"1\" class=\"dataframe\">\n",
       "  <thead>\n",
       "    <tr style=\"text-align: right;\">\n",
       "      <th></th>\n",
       "      <th>NY.GDP.PCAP.KD</th>\n",
       "      <th>Prediction</th>\n",
       "    </tr>\n",
       "    <tr>\n",
       "      <th>Country Code</th>\n",
       "      <th></th>\n",
       "      <th></th>\n",
       "    </tr>\n",
       "  </thead>\n",
       "  <tbody>\n",
       "    <tr>\n",
       "      <th>DEU</th>\n",
       "      <td>41785.556913</td>\n",
       "      <td>25935.584591</td>\n",
       "    </tr>\n",
       "    <tr>\n",
       "      <th>GBR</th>\n",
       "      <td>38709.911662</td>\n",
       "      <td>33904.050818</td>\n",
       "    </tr>\n",
       "    <tr>\n",
       "      <th>CYP</th>\n",
       "      <td>30818.463957</td>\n",
       "      <td>39739.328484</td>\n",
       "    </tr>\n",
       "    <tr>\n",
       "      <th>ESP</th>\n",
       "      <td>30736.002278</td>\n",
       "      <td>26473.552328</td>\n",
       "    </tr>\n",
       "    <tr>\n",
       "      <th>SVN</th>\n",
       "      <td>23437.472021</td>\n",
       "      <td>30548.193447</td>\n",
       "    </tr>\n",
       "    <tr>\n",
       "      <th>PRT</th>\n",
       "      <td>22538.654077</td>\n",
       "      <td>21043.161836</td>\n",
       "    </tr>\n",
       "    <tr>\n",
       "      <th>KOR</th>\n",
       "      <td>22086.952919</td>\n",
       "      <td>43012.695174</td>\n",
       "    </tr>\n",
       "    <tr>\n",
       "      <th>EST</th>\n",
       "      <td>14638.604817</td>\n",
       "      <td>39778.996054</td>\n",
       "    </tr>\n",
       "    <tr>\n",
       "      <th>HRV</th>\n",
       "      <td>13505.745863</td>\n",
       "      <td>20861.009730</td>\n",
       "    </tr>\n",
       "    <tr>\n",
       "      <th>BRA</th>\n",
       "      <td>11224.154083</td>\n",
       "      <td>17875.374263</td>\n",
       "    </tr>\n",
       "    <tr>\n",
       "      <th>MYS</th>\n",
       "      <td>9071.356987</td>\n",
       "      <td>21105.326232</td>\n",
       "    </tr>\n",
       "    <tr>\n",
       "      <th>MEX</th>\n",
       "      <td>8959.581416</td>\n",
       "      <td>19295.865618</td>\n",
       "    </tr>\n",
       "    <tr>\n",
       "      <th>GAB</th>\n",
       "      <td>8754.113376</td>\n",
       "      <td>12621.482536</td>\n",
       "    </tr>\n",
       "    <tr>\n",
       "      <th>ROU</th>\n",
       "      <td>8297.483621</td>\n",
       "      <td>16711.203644</td>\n",
       "    </tr>\n",
       "    <tr>\n",
       "      <th>CRI</th>\n",
       "      <td>8199.414621</td>\n",
       "      <td>22654.473803</td>\n",
       "    </tr>\n",
       "    <tr>\n",
       "      <th>MUS</th>\n",
       "      <td>8000.376432</td>\n",
       "      <td>8356.678542</td>\n",
       "    </tr>\n",
       "    <tr>\n",
       "      <th>COL</th>\n",
       "      <td>6250.655044</td>\n",
       "      <td>27699.549905</td>\n",
       "    </tr>\n",
       "    <tr>\n",
       "      <th>DOM</th>\n",
       "      <td>5451.066960</td>\n",
       "      <td>11964.688795</td>\n",
       "    </tr>\n",
       "    <tr>\n",
       "      <th>PER</th>\n",
       "      <td>5022.493191</td>\n",
       "      <td>29670.498902</td>\n",
       "    </tr>\n",
       "    <tr>\n",
       "      <th>TUN</th>\n",
       "      <td>4140.151770</td>\n",
       "      <td>3833.155254</td>\n",
       "    </tr>\n",
       "    <tr>\n",
       "      <th>JOR</th>\n",
       "      <td>3679.190275</td>\n",
       "      <td>-4124.642833</td>\n",
       "    </tr>\n",
       "    <tr>\n",
       "      <th>PRY</th>\n",
       "      <td>3225.591754</td>\n",
       "      <td>18939.467393</td>\n",
       "    </tr>\n",
       "    <tr>\n",
       "      <th>MAR</th>\n",
       "      <td>2834.204720</td>\n",
       "      <td>1640.133568</td>\n",
       "    </tr>\n",
       "    <tr>\n",
       "      <th>GTM</th>\n",
       "      <td>2825.524070</td>\n",
       "      <td>557.036590</td>\n",
       "    </tr>\n",
       "    <tr>\n",
       "      <th>EGY</th>\n",
       "      <td>2602.479549</td>\n",
       "      <td>541.875656</td>\n",
       "    </tr>\n",
       "    <tr>\n",
       "      <th>IND</th>\n",
       "      <td>1345.770153</td>\n",
       "      <td>3531.005261</td>\n",
       "    </tr>\n",
       "    <tr>\n",
       "      <th>VNM</th>\n",
       "      <td>1333.583524</td>\n",
       "      <td>29244.938988</td>\n",
       "    </tr>\n",
       "    <tr>\n",
       "      <th>CMR</th>\n",
       "      <td>1182.869227</td>\n",
       "      <td>25095.965028</td>\n",
       "    </tr>\n",
       "    <tr>\n",
       "      <th>KGZ</th>\n",
       "      <td>880.037775</td>\n",
       "      <td>24223.949979</td>\n",
       "    </tr>\n",
       "    <tr>\n",
       "      <th>KHM</th>\n",
       "      <td>785.692884</td>\n",
       "      <td>34560.078560</td>\n",
       "    </tr>\n",
       "    <tr>\n",
       "      <th>BEN</th>\n",
       "      <td>757.695907</td>\n",
       "      <td>27870.278050</td>\n",
       "    </tr>\n",
       "    <tr>\n",
       "      <th>BGD</th>\n",
       "      <td>757.671757</td>\n",
       "      <td>5349.380696</td>\n",
       "    </tr>\n",
       "    <tr>\n",
       "      <th>MLI</th>\n",
       "      <td>708.370763</td>\n",
       "      <td>10960.668144</td>\n",
       "    </tr>\n",
       "  </tbody>\n",
       "</table>\n",
       "</div>"
      ],
      "text/plain": [
       "              NY.GDP.PCAP.KD    Prediction\n",
       "Country Code                              \n",
       "DEU             41785.556913  25935.584591\n",
       "GBR             38709.911662  33904.050818\n",
       "CYP             30818.463957  39739.328484\n",
       "ESP             30736.002278  26473.552328\n",
       "SVN             23437.472021  30548.193447\n",
       "PRT             22538.654077  21043.161836\n",
       "KOR             22086.952919  43012.695174\n",
       "EST             14638.604817  39778.996054\n",
       "HRV             13505.745863  20861.009730\n",
       "BRA             11224.154083  17875.374263\n",
       "MYS              9071.356987  21105.326232\n",
       "MEX              8959.581416  19295.865618\n",
       "GAB              8754.113376  12621.482536\n",
       "ROU              8297.483621  16711.203644\n",
       "CRI              8199.414621  22654.473803\n",
       "MUS              8000.376432   8356.678542\n",
       "COL              6250.655044  27699.549905\n",
       "DOM              5451.066960  11964.688795\n",
       "PER              5022.493191  29670.498902\n",
       "TUN              4140.151770   3833.155254\n",
       "JOR              3679.190275  -4124.642833\n",
       "PRY              3225.591754  18939.467393\n",
       "MAR              2834.204720   1640.133568\n",
       "GTM              2825.524070    557.036590\n",
       "EGY              2602.479549    541.875656\n",
       "IND              1345.770153   3531.005261\n",
       "VNM              1333.583524  29244.938988\n",
       "CMR              1182.869227  25095.965028\n",
       "KGZ               880.037775  24223.949979\n",
       "KHM               785.692884  34560.078560\n",
       "BEN               757.695907  27870.278050\n",
       "BGD               757.671757   5349.380696\n",
       "MLI               708.370763  10960.668144"
      ]
     },
     "execution_count": 47,
     "metadata": {},
     "output_type": "execute_result"
    }
   ],
   "source": [
    "# Create a dataframe to compare the predicted and actual value\n",
    "comparison = pd.DataFrame(Y_test)\n",
    "comparison['Prediction'] = pd.Series(Y_prediction, index=comparison.index)\n",
    "comparison.sort_values(by=\"NY.GDP.PCAP.KD\", ascending=False, inplace=True)\n",
    "comparison"
   ]
  },
  {
   "cell_type": "code",
   "execution_count": 48,
   "metadata": {
    "scrolled": true
   },
   "outputs": [
    {
     "data": {
      "image/png": "[encoded data removed]",
      "text/plain": [
       "<matplotlib.figure.Figure at 0x261112576d8>"
      ]
     },
     "metadata": {},
     "output_type": "display_data"
    }
   ],
   "source": [
    "# Plot the actual and predicted values\n",
    "comparison.plot.bar(figsize=(20,10), subplots=False)\n",
    "plt.style.use('seaborn-pastel')\n",
    "plt.savefig(\"Comparison of predicted vs actual values GDP.png\", transparant=True)\n",
    "plt.show()"
   ]
  },
  {
   "cell_type": "code",
   "execution_count": null,
   "metadata": {
    "collapsed": true
   },
   "outputs": [],
   "source": []
  }
 ],
 "metadata": {
  "kernelspec": {
   "display_name": "Python 3",
   "language": "python",
   "name": "python3"
  },
  "language_info": {
   "codemirror_mode": {
    "name": "ipython",
    "version": 3
   },
   "file_extension": ".py",
   "mimetype": "text/x-python",
   "name": "python",
   "nbconvert_exporter": "python",
   "pygments_lexer": "ipython3",
   "version": "3.6.1"
  }
 },
 "nbformat": 4,
 "nbformat_minor": 2
}
